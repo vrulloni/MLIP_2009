{
 "cells": [
  {
   "cell_type": "code",
   "execution_count": 2,
   "metadata": {},
   "outputs": [
    {
     "data": {
      "image/png": "[encoded data removed]",
      "text/plain": [
       "<Figure size 432x288 with 1 Axes>"
      ]
     },
     "metadata": {
      "needs_background": "light"
     },
     "output_type": "display_data"
    }
   ],
   "source": [
    "##Etiquetado con skimage\n",
    "\n",
    "import numpy as np\n",
    "from skimage.measure import label,regionprops\n",
    "import matplotlib.pyplot as plt\n",
    "\n",
    "arr = np.array([[1, 0, 1, 0, 0, 0, 1],\n",
    "                [1, 1, 1, 0, 0, 0, 1],\n",
    "                [0, 1, 1, 0, 0, 0, 1],\n",
    "                [0, 1, 1, 0, 0, 1, 1],\n",
    "                [0, 0, 0, 0, 1, 1, 1],\n",
    "                [0, 0, 0, 1, 1, 1, 1],\n",
    "                [1, 0, 0, 1, 1, 1, 1],\n",
    "                [1, 0, 0, 1, 1, 1, 1],\n",
    "                [1, 0, 0, 1, 1, 1, 1]])\n",
    "\n",
    "img = label(arr)\n",
    "plt.imshow(img)\n",
    "plt.show()"
   ]
  },
  {
   "cell_type": "code",
   "execution_count": 12,
   "metadata": {},
   "outputs": [
    {
     "name": "stdout",
     "output_type": "stream",
     "text": [
      "[[1 0 1 0 0 0 2]\n",
      " [1 1 1 0 0 0 2]\n",
      " [0 1 1 0 0 0 2]\n",
      " [0 1 1 0 0 2 2]\n",
      " [0 0 0 0 2 2 2]\n",
      " [0 0 0 2 2 2 2]\n",
      " [3 0 0 2 2 2 2]\n",
      " [3 0 0 2 2 2 2]\n",
      " [3 0 0 2 2 2 2]]\n"
     ]
    }
   ],
   "source": [
    "print(img)"
   ]
  },
  {
   "cell_type": "code",
   "execution_count": 3,
   "metadata": {},
   "outputs": [
    {
     "name": "stdout",
     "output_type": "stream",
     "text": [
      "Se encontraron  3 objetos\n"
     ]
    }
   ],
   "source": [
    "props=regionprops(img) #con regionprops encuentro los objetos según el etiquetado\n",
    "print(\"Se encontraron \",len(props),\"objetos\")"
   ]
  },
  {
   "cell_type": "code",
   "execution_count": 5,
   "metadata": {},
   "outputs": [
    {
     "name": "stdout",
     "output_type": "stream",
     "text": [
      "La etiqueta del píxel en la posición [ 8 6 ] es  2\n"
     ]
    }
   ],
   "source": [
    "fila, columna = 8, 6\n",
    "\n",
    "indiceobjeto = img[fila, columna]\n",
    "print('La etiqueta del píxel en la posición [',fila, columna, '] es ', indiceobjeto)\n"
   ]
  },
  {
   "cell_type": "code",
   "execution_count": 6,
   "metadata": {},
   "outputs": [
    {
     "name": "stdout",
     "output_type": "stream",
     "text": [
      "[[False False False False False False  True]\n",
      " [False False False False False False  True]\n",
      " [False False False False False False  True]\n",
      " [False False False False False  True  True]\n",
      " [False False False False  True  True  True]\n",
      " [False False False  True  True  True  True]\n",
      " [False False False  True  True  True  True]\n",
      " [False False False  True  True  True  True]\n",
      " [False False False  True  True  True  True]]\n",
      "1\n",
      "9\n",
      "\n",
      "2\n",
      "24\n",
      "\n",
      "3\n",
      "3\n",
      "\n"
     ]
    }
   ],
   "source": [
    "print(img==indiceobjeto)\n",
    "for i in props:\n",
    "    print(i.label)\n",
    "    print(i.area)\n",
    "    print()"
   ]
  },
  {
   "cell_type": "code",
   "execution_count": null,
   "metadata": {},
   "outputs": [],
   "source": []
  }
 ],
 "metadata": {
  "kernelspec": {
   "display_name": "Python 3",
   "language": "python",
   "name": "python3"
  },
  "language_info": {
   "codemirror_mode": {
    "name": "ipython",
    "version": 3
   },
   "file_extension": ".py",
   "mimetype": "text/x-python",
   "name": "python",
   "nbconvert_exporter": "python",
   "pygments_lexer": "ipython3",
   "version": "3.6.5"
  }
 },
 "nbformat": 4,
 "nbformat_minor": 2
}
