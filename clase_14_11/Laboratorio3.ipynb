{
  "nbformat": 4,
  "nbformat_minor": 0,
  "metadata": {
    "anaconda-cloud": {},
    "colab": {
      "name": "Laboratorio3.ipynb",
      "provenance": []
    },
    "kernelspec": {
      "display_name": "Python 3",
      "language": "python",
      "name": "python3"
    },
    "language_info": {
      "codemirror_mode": {
        "name": "ipython",
        "version": 3
      },
      "file_extension": ".py",
      "mimetype": "text/x-python",
      "name": "python",
      "nbconvert_exporter": "python",
      "pygments_lexer": "ipython3",
      "version": "3.7.3"
    }
  },
  "cells": [
    {
      "cell_type": "markdown",
      "metadata": {
        "colab_type": "text",
        "id": "ig_EUK7UpGHE"
      },
      "source": [
        "### Curso-Taller 2019: Aprendizaje Automático e Imágenes en Python \n",
        "* Docentes:  Dra. Valeria S. Rulloni - Dra. Laura M. Vargas\n",
        "* Ayudantes: Axel Aguerreberry - Sebastián Palacio\n",
        "* Colaboradoras: Dra. Ana Carolina Maldonado - Dra. Claudia Egea\n",
        "\n",
        "### Temario a desarrollar:\n",
        "*\tUso y herramientas básicas de Python\n",
        "*\tImágenes digitales: tipos (binarias, monocromáticas y a color)\n",
        "*\tHistograma. Mejora de la imagen: contraste, filtros: suavizado y detección de bordes.\n",
        "*\tUmbralado y Binarización. Operaciones Morfológicas: erosión, dilatación, cierre y apertura.\n",
        "*\t**Clasificación de imágenes.**\n",
        "*\t**Aprendizaje automático**\n",
        "*\t**Aprendizaje profundo: Redes neuronales**\n",
        "*\tAplicaciones: Grafos para segmentación de imágenes, entre otras.\n",
        "\n"
      ]
    },
    {
      "cell_type": "markdown",
      "metadata": {
        "colab_type": "text",
        "id": "YofqDHYMpGHP"
      },
      "source": [
        "# Laboratorio Parte 3: Keras, MNIST data, aumentación de datos, redes neuronales convolucionales (CNN), drop-out"
      ]
    },
    {
      "cell_type": "code",
      "metadata": {
        "colab_type": "code",
        "id": "IHTAzB7epGHR",
        "outputId": "978bf539-2690-41fd-cbb0-5e8d50623891",
        "colab": {
          "base_uri": "https://localhost:8080/",
          "height": 80
        }
      },
      "source": [
        "# importo librerias necesarias     \n",
        "import matplotlib\n",
        "import matplotlib.pyplot as plt\n",
        "import tensorflow as tf\n",
        "import numpy as np\n",
        "from keras.layers import Input, Dense, Conv2D, MaxPooling2D, Flatten, BatchNormalization, Activation, Dropout\n",
        "from keras.models import Model\n",
        "from keras.callbacks import EarlyStopping, ModelCheckpoint, Callback\n",
        "import cv2"
      ],
      "execution_count": 0,
      "outputs": [
        {
          "output_type": "display_data",
          "data": {
            "text/html": [
              "<p style=\"color: red;\">\n",
              "The default version of TensorFlow in Colab will soon switch to TensorFlow 2.x.<br>\n",
              "We recommend you <a href=\"https://www.tensorflow.org/guide/migrate\" target=\"_blank\">upgrade</a> now \n",
              "or ensure your notebook will continue to use TensorFlow 1.x via the <code>%tensorflow_version 1.x</code> magic:\n",
              "<a href=\"https://colab.research.google.com/notebooks/tensorflow_version.ipynb\" target=\"_blank\">more info</a>.</p>\n"
            ],
            "text/plain": [
              "<IPython.core.display.HTML object>"
            ]
          },
          "metadata": {
            "tags": []
          }
        },
        {
          "output_type": "stream",
          "text": [
            "Using TensorFlow backend.\n"
          ],
          "name": "stderr"
        }
      ]
    },
    {
      "cell_type": "code",
      "metadata": {
        "colab_type": "code",
        "id": "fm-5wwpjpGHe",
        "outputId": "c1e10108-179c-4bf1-b738-940a7d75f91a",
        "colab": {
          "base_uri": "https://localhost:8080/",
          "height": 530
        }
      },
      "source": [
        "from tensorflow.examples.tutorials.mnist import input_data\n",
        "\n",
        "# importo y guardo MNIST data\n",
        "mnist = input_data.read_data_sets(\"./mnist/data/\", one_hot=True)"
      ],
      "execution_count": 0,
      "outputs": [
        {
          "output_type": "stream",
          "text": [
            "WARNING:tensorflow:From <ipython-input-2-5eb3549ca727>:4: read_data_sets (from tensorflow.contrib.learn.python.learn.datasets.mnist) is deprecated and will be removed in a future version.\n",
            "Instructions for updating:\n",
            "Please use alternatives such as official/mnist/dataset.py from tensorflow/models.\n",
            "WARNING:tensorflow:From /usr/local/lib/python3.6/dist-packages/tensorflow_core/contrib/learn/python/learn/datasets/mnist.py:260: maybe_download (from tensorflow.contrib.learn.python.learn.datasets.base) is deprecated and will be removed in a future version.\n",
            "Instructions for updating:\n",
            "Please write your own downloading logic.\n",
            "WARNING:tensorflow:From /usr/local/lib/python3.6/dist-packages/tensorflow_core/contrib/learn/python/learn/datasets/base.py:252: _internal_retry.<locals>.wrap.<locals>.wrapped_fn (from tensorflow.contrib.learn.python.learn.datasets.base) is deprecated and will be removed in a future version.\n",
            "Instructions for updating:\n",
            "Please use urllib or similar directly.\n",
            "Successfully downloaded train-images-idx3-ubyte.gz 9912422 bytes.\n",
            "WARNING:tensorflow:From /usr/local/lib/python3.6/dist-packages/tensorflow_core/contrib/learn/python/learn/datasets/mnist.py:262: extract_images (from tensorflow.contrib.learn.python.learn.datasets.mnist) is deprecated and will be removed in a future version.\n",
            "Instructions for updating:\n",
            "Please use tf.data to implement this functionality.\n",
            "Extracting ./mnist/data/train-images-idx3-ubyte.gz\n",
            "Successfully downloaded train-labels-idx1-ubyte.gz 28881 bytes.\n",
            "WARNING:tensorflow:From /usr/local/lib/python3.6/dist-packages/tensorflow_core/contrib/learn/python/learn/datasets/mnist.py:267: extract_labels (from tensorflow.contrib.learn.python.learn.datasets.mnist) is deprecated and will be removed in a future version.\n",
            "Instructions for updating:\n",
            "Please use tf.data to implement this functionality.\n",
            "Extracting ./mnist/data/train-labels-idx1-ubyte.gz\n",
            "WARNING:tensorflow:From /usr/local/lib/python3.6/dist-packages/tensorflow_core/contrib/learn/python/learn/datasets/mnist.py:110: dense_to_one_hot (from tensorflow.contrib.learn.python.learn.datasets.mnist) is deprecated and will be removed in a future version.\n",
            "Instructions for updating:\n",
            "Please use tf.one_hot on tensors.\n",
            "Successfully downloaded t10k-images-idx3-ubyte.gz 1648877 bytes.\n",
            "Extracting ./mnist/data/t10k-images-idx3-ubyte.gz\n",
            "Successfully downloaded t10k-labels-idx1-ubyte.gz 4542 bytes.\n",
            "Extracting ./mnist/data/t10k-labels-idx1-ubyte.gz\n",
            "WARNING:tensorflow:From /usr/local/lib/python3.6/dist-packages/tensorflow_core/contrib/learn/python/learn/datasets/mnist.py:290: DataSet.__init__ (from tensorflow.contrib.learn.python.learn.datasets.mnist) is deprecated and will be removed in a future version.\n",
            "Instructions for updating:\n",
            "Please use alternatives such as official/mnist/dataset.py from tensorflow/models.\n"
          ],
          "name": "stdout"
        }
      ]
    },
    {
      "cell_type": "markdown",
      "metadata": {
        "colab_type": "text",
        "id": "BHE-CmgDpGHj"
      },
      "source": [
        "## Exploración del dataset"
      ]
    },
    {
      "cell_type": "code",
      "metadata": {
        "colab_type": "code",
        "id": "VAKy-CLtpGHk",
        "outputId": "43140bb0-2079-4e35-dd05-68fc3afc97cc",
        "colab": {
          "base_uri": "https://localhost:8080/",
          "height": 85
        }
      },
      "source": [
        "# dimensiones de la data\n",
        "print(f\"Imagenes de Entrenamiento: {mnist.train.images.shape}\")\n",
        "print(f\"Labels de Entrenamiento: {mnist.train.labels.shape}\")\n",
        "\n",
        "print(f\"Imagenes de Testeo: {mnist.test.images.shape}\")\n",
        "print(f\"Labels de Testeo: {mnist.test.labels.shape}\")"
      ],
      "execution_count": 0,
      "outputs": [
        {
          "output_type": "stream",
          "text": [
            "Imagenes de Entrenamiento: (55000, 784)\n",
            "Labels de Entrenamiento: (55000, 10)\n",
            "Imagenes de Testeo: (10000, 784)\n",
            "Labels de Testeo: (10000, 10)\n"
          ],
          "name": "stdout"
        }
      ]
    },
    {
      "cell_type": "code",
      "metadata": {
        "colab_type": "code",
        "id": "tqirwdHEpGHp",
        "outputId": "6d940d7d-786c-4a0d-de50-844b83df35d6",
        "colab": {
          "base_uri": "https://localhost:8080/",
          "height": 1000
        }
      },
      "source": [
        "# visualizamos algunas imagenes\n",
        "fig, ax = plt.subplots(3, 3, figsize=[15, 40])\n",
        "\n",
        "random_image = np.random.randint(low=0, high=55000, size=1)\n",
        "\n",
        "for j in range(3):\n",
        "    for i in range(3):\n",
        "        \n",
        "       random_image = np.random.randint(low=0, high=55000, size=1)\n",
        "\n",
        "       ax[i,j].imshow(mnist.train.images[random_image].reshape(28,28), 'gray')\n",
        "       ax[i,j].set_xticks([])\n",
        "       ax[i,j].set_yticks([])\n",
        "       ax[i,j].set_title('Label:  ' + str(mnist.train.labels[random_image]), color='r')\n",
        "\n",
        "\n",
        "#fig.subplots_adjust(wspace=0.1, hspace=0)\n",
        "plt.show()"
      ],
      "execution_count": 0,
      "outputs": [
        {
          "output_type": "display_data",
          "data": {
            "image/png": "[encoded data removed]",
            "text/plain": [
              "<Figure size 1080x2880 with 9 Axes>"
            ]
          },
          "metadata": {
            "tags": []
          }
        }
      ]
    },
    {
      "cell_type": "code",
      "metadata": {
        "colab_type": "code",
        "id": "tgkDCMnopGHt",
        "colab": {}
      },
      "source": [
        ""
      ],
      "execution_count": 0,
      "outputs": []
    },
    {
      "cell_type": "markdown",
      "metadata": {
        "colab_type": "text",
        "id": "3BdBTq_1pGHx"
      },
      "source": [
        "# Datos de entrenamiento para el Modelo"
      ]
    },
    {
      "cell_type": "code",
      "metadata": {
        "colab_type": "code",
        "id": "wEClD4GApGHy",
        "colab": {}
      },
      "source": [
        "X_train, y_train = mnist.train.images, mnist.train.labels\n",
        "X_test, y_test = mnist.test.images, mnist.test.labels"
      ],
      "execution_count": 0,
      "outputs": []
    },
    {
      "cell_type": "code",
      "metadata": {
        "colab_type": "code",
        "id": "BNRXTXYDpGH1",
        "colab": {}
      },
      "source": [
        "X_train, X_test = X_train.reshape(55000, 28, 28), X_test.reshape(10000, 28, 28)"
      ],
      "execution_count": 0,
      "outputs": []
    },
    {
      "cell_type": "markdown",
      "metadata": {
        "colab_type": "text",
        "id": "ecpRggCWpGHi"
      },
      "source": [
        "### Documentación de Keras: https://keras.io/"
      ]
    },
    {
      "cell_type": "markdown",
      "metadata": {
        "id": "_ofRFnD7vZWc",
        "colab_type": "text"
      },
      "source": [
        "### Aumentación de datos por Rotación de Imágenes "
      ]
    },
    {
      "cell_type": "code",
      "metadata": {
        "id": "ywu6WU7FvZWd",
        "colab_type": "code",
        "colab": {}
      },
      "source": [
        "def rotacion(image, angle): \n",
        "    \n",
        "    \n",
        "    h, w = image.shape[0], image.shape[1]\n",
        "    medio = (w/2, h/2)\n",
        "\n",
        "    M = cv2.getRotationMatrix2D(medio, angle, 1.0)\n",
        "    imagen_rotada = cv2.warpAffine(image, M, (w, h))\n",
        "        \n",
        "        \n",
        "    return imagen_rotada"
      ],
      "execution_count": 0,
      "outputs": []
    },
    {
      "cell_type": "code",
      "metadata": {
        "id": "Hpi2v2RwvZWh",
        "colab_type": "code",
        "colab": {}
      },
      "source": [
        "def dataAugmentation(images, labels):\n",
        "\n",
        "  all_labels = []\n",
        "  all_images = []\n",
        "\n",
        "  for i in range(images.shape[0]):\n",
        "\n",
        "    image, label = images[i], labels[i]\n",
        "\n",
        "    all_images.append(image)\n",
        "    all_labels.append(label)\n",
        "\n",
        "    all_images.append(rotacion(image, 5))\n",
        "    all_labels.append(label)    \n",
        "    \n",
        "    all_images.append(rotacion(image, -5))\n",
        "    all_labels.append(label)\n",
        "\n",
        "  return np.asarray(all_images), np.asarray(all_labels)"
      ],
      "execution_count": 0,
      "outputs": []
    },
    {
      "cell_type": "code",
      "metadata": {
        "id": "bfQaNbMOvZWk",
        "colab_type": "code",
        "outputId": "6b927e59-1e2e-48f4-d250-d8ef5dc9b0ad",
        "colab": {
          "base_uri": "https://localhost:8080/",
          "height": 424
        }
      },
      "source": [
        "fig, ax = plt.subplots(1, 3, figsize=(20,15))\n",
        "\n",
        "ax[0].imshow(X_train[0], 'gray',vmin=0, vmax=1);\n",
        "ax[0].axis('off')\n",
        "ax[0].set_title('Imagen Original')\n",
        "\n",
        "ax[1].imshow(rotacion(X_train[0], 5),'gray', vmin=0, vmax=1);\n",
        "ax[1].axis('off')\n",
        "ax[1].set_title('Imagen rotada +5')\n",
        "\n",
        "ax[2].imshow(rotacion(X_train[0], -5),'gray', vmin=0, vmax=1);\n",
        "ax[2].axis('off')\n",
        "ax[2].set_title('Imagen rotada -5')\n",
        "\n",
        "fig.subplots_adjust(wspace=0.05, top=0.8)\n",
        "plt.show()\n",
        "print(rotacion(X_train[0], 5).shape)"
      ],
      "execution_count": 0,
      "outputs": [
        {
          "output_type": "display_data",
          "data": {
            "image/png": "[encoded data removed]",
            "text/plain": [
              "<Figure size 1440x1080 with 3 Axes>"
            ]
          },
          "metadata": {
            "tags": []
          }
        },
        {
          "output_type": "stream",
          "text": [
            "(28, 28)\n"
          ],
          "name": "stdout"
        }
      ]
    },
    {
      "cell_type": "code",
      "metadata": {
        "id": "uPc2p03ivZWn",
        "colab_type": "code",
        "outputId": "92feb4da-f157-4b3a-daff-5e85cedfb06c",
        "colab": {
          "base_uri": "https://localhost:8080/",
          "height": 34
        }
      },
      "source": [
        "X_train, y_train = dataAugmentation(X_train, y_train)\n",
        "print(X_train.shape,y_train.shape)"
      ],
      "execution_count": 0,
      "outputs": [
        {
          "output_type": "stream",
          "text": [
            "(165000, 28, 28) (165000, 10)\n"
          ],
          "name": "stdout"
        }
      ]
    },
    {
      "cell_type": "code",
      "metadata": {
        "id": "BQPQy_k-vZWq",
        "colab_type": "code",
        "colab": {}
      },
      "source": [
        "X_train, X_test = X_train.reshape(165000, 28, 28, 1), X_test.reshape(10000, 28, 28, 1)"
      ],
      "execution_count": 0,
      "outputs": []
    },
    {
      "cell_type": "markdown",
      "metadata": {
        "id": "xzdFBXik0rKK",
        "colab_type": "text"
      },
      "source": [
        "### Uso de Drop out para evitar sobre-ajuste (overfitting) del modelo"
      ]
    },
    {
      "cell_type": "code",
      "metadata": {
        "colab_type": "code",
        "id": "3HllT5hKpGH6",
        "colab": {}
      },
      "source": [
        "### A completar: definir capa de entrada, capas ocultas, y capa de salida\n",
        "\n",
        "entrada = Input(shape=(28,28,1))\n",
        "\n",
        "conv1 = Conv2D(64, 5,activation=\"relu\")(entrada)\n",
        "bn1 = BatchNormalization()(conv1)\n",
        "activation1 = Activation(\"relu\")(bn1)\n",
        "maxPool1 = MaxPooling2D(pool_size=(2, 2))(activation1)\n",
        "\n",
        "conv2 = Conv2D(128, 5,activation=\"relu\")(maxPool1)\n",
        "bn2 = BatchNormalization()(conv2)\n",
        "activation2 = Activation(\"relu\")(bn2)\n",
        "maxPool2 = MaxPooling2D(pool_size=(2, 2))(activation2)\n",
        "\n",
        "flatten = Flatten()(maxPool2)\n",
        "\n",
        "dense1 = Dense(256, activation=\"sigmoid\")(flatten)\n",
        "dense1 = Dropout(0.5)(dense1)\n",
        "\n",
        "dense2 = Dense(64, activation=\"sigmoid\")(dense1)\n",
        "dense2 = Dropout(0.5)(dense2)\n",
        "\n",
        "salida = Dense(10, activation=\"softmax\")(dense2)\n",
        "\n",
        "\n",
        "###"
      ],
      "execution_count": 0,
      "outputs": []
    },
    {
      "cell_type": "code",
      "metadata": {
        "colab_type": "code",
        "id": "xBhaE3oIpGH-",
        "colab": {}
      },
      "source": [
        "### A completar: definir entrada y salida del modelo\n",
        "\n",
        "model = Model(inputs=entrada, outputs=salida)\n",
        "\n",
        "###"
      ],
      "execution_count": 0,
      "outputs": []
    },
    {
      "cell_type": "code",
      "metadata": {
        "colab_type": "code",
        "id": "umTP8FRVpGIC",
        "outputId": "7ca6fdc6-de33-4c9a-c7fc-39a85c2750c9",
        "colab": {
          "base_uri": "https://localhost:8080/",
          "height": 105
        }
      },
      "source": [
        "### A completar: definir optimizador y funcion de costo\n",
        "\n",
        "model.compile(optimizer='adam',\n",
        "              loss='categorical_crossentropy',\n",
        "              metrics=['accuracy'])\n",
        "\n",
        "###"
      ],
      "execution_count": 0,
      "outputs": [
        {
          "output_type": "stream",
          "text": [
            "WARNING:tensorflow:From /usr/local/lib/python3.6/dist-packages/keras/optimizers.py:793: The name tf.train.Optimizer is deprecated. Please use tf.compat.v1.train.Optimizer instead.\n",
            "\n",
            "WARNING:tensorflow:From /usr/local/lib/python3.6/dist-packages/keras/backend/tensorflow_backend.py:3576: The name tf.log is deprecated. Please use tf.math.log instead.\n",
            "\n"
          ],
          "name": "stdout"
        }
      ]
    },
    {
      "cell_type": "code",
      "metadata": {
        "colab_type": "code",
        "id": "eUmdtpkApGIG",
        "colab": {}
      },
      "source": [
        "## para guardar el modelo\n",
        "filepath = \"prueba1.h5\"\n",
        "model_checkpoint = ModelCheckpoint(filepath, monitor='loss',verbose=1, save_best_only=True)"
      ],
      "execution_count": 0,
      "outputs": []
    },
    {
      "cell_type": "code",
      "metadata": {
        "colab_type": "code",
        "id": "isv-GaCLpGIK",
        "outputId": "4f6e02ee-3bd1-4397-c4f5-4f3b7c9d9b62",
        "colab": {
          "base_uri": "https://localhost:8080/",
          "height": 374
        }
      },
      "source": [
        "history = model.fit(X_train, y_train,\n",
        "              batch_size=32,\n",
        "              epochs=1, validation_data=(X_test, y_test), callbacks=[model_checkpoint])"
      ],
      "execution_count": 0,
      "outputs": [
        {
          "output_type": "stream",
          "text": [
            "Train on 165000 samples, validate on 10000 samples\n",
            "Epoch 1/5\n",
            "165000/165000 [==============================] - 652s 4ms/step - loss: 0.0438 - acc: 0.9891 - val_loss: 0.0192 - val_acc: 0.9945\n",
            "\n",
            "Epoch 00001: loss improved from 0.12871 to 0.04379, saving model to prueba1.h5\n",
            "Epoch 2/5\n",
            "165000/165000 [==============================] - 654s 4ms/step - loss: 0.0329 - acc: 0.9918 - val_loss: 0.0233 - val_acc: 0.9931\n",
            "\n",
            "Epoch 00002: loss improved from 0.04379 to 0.03286, saving model to prueba1.h5\n",
            "Epoch 3/5\n",
            "165000/165000 [==============================] - 652s 4ms/step - loss: 0.0269 - acc: 0.9930 - val_loss: 0.0198 - val_acc: 0.9948\n",
            "\n",
            "Epoch 00003: loss improved from 0.03286 to 0.02693, saving model to prueba1.h5\n",
            "Epoch 4/5\n",
            "165000/165000 [==============================] - 657s 4ms/step - loss: 0.0217 - acc: 0.9944 - val_loss: 0.0315 - val_acc: 0.9927\n",
            "\n",
            "Epoch 00004: loss improved from 0.02693 to 0.02167, saving model to prueba1.h5\n",
            "Epoch 5/5\n",
            "165000/165000 [==============================] - 658s 4ms/step - loss: 0.0193 - acc: 0.9950 - val_loss: 0.0261 - val_acc: 0.9944\n",
            "\n",
            "Epoch 00005: loss improved from 0.02167 to 0.01934, saving model to prueba1.h5\n"
          ],
          "name": "stdout"
        }
      ]
    },
    {
      "cell_type": "code",
      "metadata": {
        "colab_type": "code",
        "id": "ZSYHiDbjpGIO",
        "outputId": "63490613-0d7b-47e1-b4f6-5e5b9764a72d",
        "colab": {
          "base_uri": "https://localhost:8080/",
          "height": 119
        }
      },
      "source": [
        "print(\"Accuracy, train:\")\n",
        "print(model.evaluate(X_train, y_train))\n",
        "\n",
        "print(\"Accuracy, test:\")\n",
        "print(model.evaluate(X_test, y_test))"
      ],
      "execution_count": 0,
      "outputs": [
        {
          "output_type": "stream",
          "text": [
            "Accuracy, train:\n",
            "165000/165000 [==============================] - 191s 1ms/step\n",
            "[0.005737218417911633, 0.9983333333333333]\n",
            "Accuracy, test:\n",
            "10000/10000 [==============================] - 12s 1ms/step\n",
            "[0.02612897082561085, 0.9944]\n"
          ],
          "name": "stdout"
        }
      ]
    },
    {
      "cell_type": "code",
      "metadata": {
        "colab_type": "code",
        "id": "ke2uSBgCpGIR",
        "outputId": "18d13d3d-0b07-46bf-c926-9ec931271fd4",
        "colab": {
          "base_uri": "https://localhost:8080/",
          "height": 562
        }
      },
      "source": [
        "## visuzalimos curvas de entrenamiento\n",
        "\n",
        "plt.figure()\n",
        "plt.title(\"Accuracy vs epochs\")\n",
        "plt.plot( history.history['acc'] )\n",
        "plt.plot( history.history['val_acc'] )\n",
        "plt.legend(['Training Accuracy', 'Validation Accuracy'])\n",
        "\n",
        "\n",
        "plt.figure()\n",
        "plt.title(\"Loss vs epochs\")\n",
        "plt.plot( history.history['loss'] )\n",
        "plt.plot( history.history['val_loss'] )\n",
        "plt.legend(['Training Loss', 'Validation Loss'])"
      ],
      "execution_count": 0,
      "outputs": [
        {
          "output_type": "execute_result",
          "data": {
            "text/plain": [
              "<matplotlib.legend.Legend at 0x7f5878aca400>"
            ]
          },
          "metadata": {
            "tags": []
          },
          "execution_count": 24
        },
        {
          "output_type": "display_data",
          "data": {
            "image/png": "[encoded data removed]",
            "text/plain": [
              "<Figure size 432x288 with 1 Axes>"
            ]
          },
          "metadata": {
            "tags": []
          }
        },
        {
          "output_type": "display_data",
          "data": {
            "image/png": "[encoded data removed]",
            "text/plain": [
              "<Figure size 432x288 with 1 Axes>"
            ]
          },
          "metadata": {
            "tags": []
          }
        }
      ]
    },
    {
      "cell_type": "code",
      "metadata": {
        "colab_type": "code",
        "id": "QOCdZxsopGIV",
        "colab": {}
      },
      "source": [
        ""
      ],
      "execution_count": 0,
      "outputs": []
    },
    {
      "cell_type": "markdown",
      "metadata": {
        "colab_type": "text",
        "id": "iQIQmtPbpGIY"
      },
      "source": [
        "## Usemos este modelo para hacer predicciones"
      ]
    },
    {
      "cell_type": "code",
      "metadata": {
        "colab_type": "code",
        "id": "r0f4-FB7pGIZ",
        "colab": {}
      },
      "source": [
        "## A completar: utilizar imagenes de testeo\n",
        "\n",
        "predicciones = model.predict(X_test)\n",
        "\n",
        "##"
      ],
      "execution_count": 0,
      "outputs": []
    },
    {
      "cell_type": "code",
      "metadata": {
        "colab_type": "code",
        "id": "_hBlpLFxpGIf",
        "outputId": "aedcff73-aaca-462b-b5a0-77d437571e3d",
        "colab": {
          "base_uri": "https://localhost:8080/",
          "height": 1000
        }
      },
      "source": [
        "fig, ax = plt.subplots(3, 3, figsize=[15, 40])\n",
        "\n",
        "\n",
        "for j in range(3):\n",
        "    for i in range(3):\n",
        "        \n",
        "       random_image = np.random.randint(low=0, high=1000, size=1)\n",
        "\n",
        "       ax[i,j].imshow(mnist.test.images[random_image].reshape(28,28), 'gray')\n",
        "       ax[i,j].set_xticks([])\n",
        "       ax[i,j].set_yticks([])\n",
        "       ax[i,j].set_title('Predccion de mi red:  ' + str(np.argmax(predicciones[random_image])), color='r')\n",
        "\n",
        "plt.show()"
      ],
      "execution_count": 0,
      "outputs": [
        {
          "output_type": "display_data",
          "data": {
            "image/png": "[encoded data removed]",
            "text/plain": [
              "<Figure size 1080x2880 with 9 Axes>"
            ]
          },
          "metadata": {
            "tags": []
          }
        }
      ]
    },
    {
      "cell_type": "code",
      "metadata": {
        "colab_type": "code",
        "id": "HgfuQZZMpGIj",
        "colab": {}
      },
      "source": [
        ""
      ],
      "execution_count": 0,
      "outputs": []
    },
    {
      "cell_type": "code",
      "metadata": {
        "colab_type": "code",
        "id": "PItQDbcXpGIm",
        "colab": {}
      },
      "source": [
        ""
      ],
      "execution_count": 0,
      "outputs": []
    }
  ]
}