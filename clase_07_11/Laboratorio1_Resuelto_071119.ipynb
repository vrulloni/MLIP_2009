{
  "nbformat": 4,
  "nbformat_minor": 0,
  "metadata": {
    "anaconda-cloud": {},
    "kernelspec": {
      "display_name": "Python 3",
      "language": "python",
      "name": "python3"
    },
    "language_info": {
      "codemirror_mode": {
        "name": "ipython",
        "version": 3
      },
      "file_extension": ".py",
      "mimetype": "text/x-python",
      "name": "python",
      "nbconvert_exporter": "python",
      "pygments_lexer": "ipython3",
      "version": "3.7.3"
    },
    "colab": {
      "name": "Laboratorio1_Resuelto_071119.ipynb",
      "provenance": [],
      "collapsed_sections": []
    }
  },
  "cells": [
    {
      "cell_type": "markdown",
      "metadata": {
        "id": "OoyjGd39iHe5",
        "colab_type": "text"
      },
      "source": [
        "### Curso-Taller 2019: Aprendizaje Automático e Imágenes en Python \n",
        "* Docentes:  Dra. Valeria S. Rulloni - Dra. Laura M. Vargas\n",
        "* Ayudantes: Axel Aguerreberry - Sebastián Palacio\n",
        "* Colaboradoras: Dra. Ana Carolina Maldonado - Dra. Claudia Egea\n",
        "\n",
        "### Temario a desarrollar:\n",
        "*\tUso y herramientas básicas de Python\n",
        "*\tImágenes digitales: tipos (binarias, monocromáticas y a color)\n",
        "*\tHistograma. Mejora de la imagen: contraste, filtros: suavizado y detección de bordes.\n",
        "*\tUmbralado y Binarización. Operaciones Morfológicas: erosión, dilatación, cierre y apertura.\n",
        "*\tClasificación de imágenes.\n",
        "*\t**Aprendizaje automático\n",
        "*\tAprendizaje profundo: Redes neuronales\n",
        "*\tAplicaciones: Grafos para segmentación de imágenes, entre otras.\n",
        "\n"
      ]
    },
    {
      "cell_type": "markdown",
      "metadata": {
        "id": "qGCN0em3iHe8",
        "colab_type": "text"
      },
      "source": [
        "# Laboratorio Parte 1: Keras, MNIST data y redes totalmente conectadas (FC)"
      ]
    },
    {
      "cell_type": "code",
      "metadata": {
        "id": "NYgsQ54WiHe-",
        "colab_type": "code",
        "outputId": "db048d0a-20eb-4932-fdaf-56fd41a64d5f",
        "colab": {
          "base_uri": "https://localhost:8080/",
          "height": 80
        }
      },
      "source": [
        "# importo librerias necesarias     \n",
        "import matplotlib\n",
        "import matplotlib.pyplot as plt\n",
        "import tensorflow as tf\n",
        "import numpy as np\n",
        "from keras.layers import Input, Dense\n",
        "from keras.models import Model\n",
        "from keras.callbacks import EarlyStopping, ModelCheckpoint, Callback"
      ],
      "execution_count": 1,
      "outputs": [
        {
          "output_type": "display_data",
          "data": {
            "text/html": [
              "<p style=\"color: red;\">\n",
              "The default version of TensorFlow in Colab will soon switch to TensorFlow 2.x.<br>\n",
              "We recommend you <a href=\"https://www.tensorflow.org/guide/migrate\" target=\"_blank\">upgrade</a> now \n",
              "or ensure your notebook will continue to use TensorFlow 1.x via the <code>%tensorflow_version 1.x</code> magic:\n",
              "<a href=\"https://colab.research.google.com/notebooks/tensorflow_version.ipynb\" target=\"_blank\">more info</a>.</p>\n"
            ],
            "text/plain": [
              "<IPython.core.display.HTML object>"
            ]
          },
          "metadata": {
            "tags": []
          }
        },
        {
          "output_type": "stream",
          "text": [
            "Using TensorFlow backend.\n"
          ],
          "name": "stderr"
        }
      ]
    },
    {
      "cell_type": "code",
      "metadata": {
        "id": "RqD8PjRwiHfE",
        "colab_type": "code",
        "outputId": "e3301fe2-8365-4681-c2b3-6c6d1de8b3e9",
        "colab": {
          "base_uri": "https://localhost:8080/",
          "height": 85
        }
      },
      "source": [
        "from tensorflow.examples.tutorials.mnist import input_data\n",
        "\n",
        "# importo y guardo MNIST data\n",
        "mnist = input_data.read_data_sets(\"./mnist/data/\")#, one_hot=True)"
      ],
      "execution_count": 4,
      "outputs": [
        {
          "output_type": "stream",
          "text": [
            "Extracting ./mnist/data/train-images-idx3-ubyte.gz\n",
            "Extracting ./mnist/data/train-labels-idx1-ubyte.gz\n",
            "Extracting ./mnist/data/t10k-images-idx3-ubyte.gz\n",
            "Extracting ./mnist/data/t10k-labels-idx1-ubyte.gz\n"
          ],
          "name": "stdout"
        }
      ]
    },
    {
      "cell_type": "markdown",
      "metadata": {
        "id": "75KyVwjiiHfJ",
        "colab_type": "text"
      },
      "source": [
        "## Exploración del dataset"
      ]
    },
    {
      "cell_type": "code",
      "metadata": {
        "id": "-g-fjTlliHfL",
        "colab_type": "code",
        "outputId": "37ca2482-d119-4f09-940d-da750d96f1c5",
        "colab": {
          "base_uri": "https://localhost:8080/",
          "height": 85
        }
      },
      "source": [
        "# dimensiones de la data\n",
        "print(f\"Imagenes de Entrenamiento: {mnist.train.images.shape}\")\n",
        "print(f\"Labels de Entrenamiento: {mnist.train.labels.shape}\")\n",
        "\n",
        "print(f\"Imagenes de Testeo: {mnist.test.images.shape}\")\n",
        "print(f\"Labels de Testeo: {mnist.test.labels.shape}\")"
      ],
      "execution_count": 5,
      "outputs": [
        {
          "output_type": "stream",
          "text": [
            "Imagenes de Entrenamiento: (55000, 784)\n",
            "Labels de Entrenamiento: (55000,)\n",
            "Imagenes de Testeo: (10000, 784)\n",
            "Labels de Testeo: (10000,)\n"
          ],
          "name": "stdout"
        }
      ]
    },
    {
      "cell_type": "markdown",
      "metadata": {
        "id": "p_VU4gSR7nnJ",
        "colab_type": "text"
      },
      "source": [
        "Cuántas imágenes de entrenamiento tiene la base? \n",
        "cuantos pixeles tiene cada una?\n"
      ]
    },
    {
      "cell_type": "markdown",
      "metadata": {
        "id": "JjlAOgGIX-it",
        "colab_type": "text"
      },
      "source": [
        "Etiquetas One hot Encoding:"
      ]
    },
    {
      "cell_type": "code",
      "metadata": {
        "id": "9eoL8x8WXsH-",
        "colab_type": "code",
        "colab": {
          "base_uri": "https://localhost:8080/",
          "height": 85
        },
        "outputId": "49e5d70c-b8d7-4e6b-9a3a-c57819c6c8eb"
      },
      "source": [
        "from tensorflow.examples.tutorials.mnist import input_data\n",
        "\n",
        "# importo y guardo MNIST data\n",
        "mnist = input_data.read_data_sets(\"./mnist/data/\", one_hot=True)"
      ],
      "execution_count": 6,
      "outputs": [
        {
          "output_type": "stream",
          "text": [
            "Extracting ./mnist/data/train-images-idx3-ubyte.gz\n",
            "Extracting ./mnist/data/train-labels-idx1-ubyte.gz\n",
            "Extracting ./mnist/data/t10k-images-idx3-ubyte.gz\n",
            "Extracting ./mnist/data/t10k-labels-idx1-ubyte.gz\n"
          ],
          "name": "stdout"
        }
      ]
    },
    {
      "cell_type": "markdown",
      "metadata": {
        "id": "_SelwY1mYXCp",
        "colab_type": "text"
      },
      "source": [
        "Exploración del Data Set con Etiquetas One hot Encoding:"
      ]
    },
    {
      "cell_type": "code",
      "metadata": {
        "id": "adpNx50IXs6p",
        "colab_type": "code",
        "colab": {
          "base_uri": "https://localhost:8080/",
          "height": 85
        },
        "outputId": "baf55236-04da-47c8-b98e-8ecf446f031f"
      },
      "source": [
        "# dimensiones de la data\n",
        "print(f\"Imagenes de Entrenamiento: {mnist.train.images.shape}\")\n",
        "print(f\"Labels de Entrenamiento: {mnist.train.labels.shape}\")\n",
        "\n",
        "print(f\"Imagenes de Testeo: {mnist.test.images.shape}\")\n",
        "print(f\"Labels de Testeo: {mnist.test.labels.shape}\")"
      ],
      "execution_count": 7,
      "outputs": [
        {
          "output_type": "stream",
          "text": [
            "Imagenes de Entrenamiento: (55000, 784)\n",
            "Labels de Entrenamiento: (55000, 10)\n",
            "Imagenes de Testeo: (10000, 784)\n",
            "Labels de Testeo: (10000, 10)\n"
          ],
          "name": "stdout"
        }
      ]
    },
    {
      "cell_type": "code",
      "metadata": {
        "id": "Pj4hBbKeiHfO",
        "colab_type": "code",
        "outputId": "c84fb478-15dd-4bab-fbca-f2a3812f82c1",
        "colab": {
          "base_uri": "https://localhost:8080/",
          "height": 1000
        }
      },
      "source": [
        "# visualizamos algunas imagenes\n",
        "fig, ax = plt.subplots(3, 3, figsize=[15, 40])\n",
        "\n",
        "random_image = np.random.randint(low=0, high=55000, size=1)\n",
        "\n",
        "for j in range(3):\n",
        "    for i in range(3):\n",
        "        \n",
        "       random_image = np.random.randint(low=0, high=55000, size=1)\n",
        "\n",
        "       ax[i,j].imshow(mnist.train.images[random_image].reshape(28,28), 'gray')\n",
        "       ax[i,j].set_xticks([])\n",
        "       ax[i,j].set_yticks([])\n",
        "       ax[i,j].set_title('Label:  ' + str(mnist.train.labels[random_image]), color='r')\n",
        "\n",
        "\n",
        "#fig.subplots_adjust(wspace=0.1, hspace=0)\n",
        "plt.show()"
      ],
      "execution_count": 8,
      "outputs": [
        {
          "output_type": "display_data",
          "data": {
            "image/png": "[encoded data removed]",
            "text/plain": [
              "<Figure size 1080x2880 with 9 Axes>"
            ]
          },
          "metadata": {
            "tags": []
          }
        }
      ]
    },
    {
      "cell_type": "code",
      "metadata": {
        "id": "KPuL4PZfiHfS",
        "colab_type": "code",
        "colab": {}
      },
      "source": [
        ""
      ],
      "execution_count": 0,
      "outputs": []
    },
    {
      "cell_type": "markdown",
      "metadata": {
        "id": "9Ex-KccWiHfI",
        "colab_type": "text"
      },
      "source": [
        "### Documentación de Keras: https://keras.io/"
      ]
    },
    {
      "cell_type": "markdown",
      "metadata": {
        "id": "YJsHO3KViHfV",
        "colab_type": "text"
      },
      "source": [
        "# Definición y entramiento del Modelo"
      ]
    },
    {
      "cell_type": "code",
      "metadata": {
        "id": "fAiuohRQiHfW",
        "colab_type": "code",
        "colab": {}
      },
      "source": [
        "### A completar: definir capa de entrada, capas ocultas, y capa de salida\n",
        "### Utilizar funciones Input(), Dense()\n",
        "\n",
        "entrada = Input(shape=(784,))\n",
        "layer1 = Dense(32, activation='sigmoid')(entrada)\n",
        "layer2 = Dense(128, activation='sigmoid')(layer1)\n",
        "predicciones = Dense(10, activation='softmax')(layer2)\n",
        "\n",
        "###"
      ],
      "execution_count": 0,
      "outputs": []
    },
    {
      "cell_type": "code",
      "metadata": {
        "id": "rgZy4_2liHfZ",
        "colab_type": "code",
        "colab": {}
      },
      "source": [
        "### A completar: definir entrada y salida del modelo\n",
        "\n",
        "model = Model(inputs=entrada, outputs=predicciones)\n",
        "\n",
        "###"
      ],
      "execution_count": 0,
      "outputs": []
    },
    {
      "cell_type": "code",
      "metadata": {
        "id": "FmOAAtQAiHfc",
        "colab_type": "code",
        "outputId": "e953378b-872d-4e47-c22b-b21347dd34f0",
        "colab": {
          "base_uri": "https://localhost:8080/",
          "height": 105
        }
      },
      "source": [
        "### A completar: definir optimizador y funcion de costo\n",
        "\n",
        "model.compile(optimizer='rmsprop',\n",
        "              loss='categorical_crossentropy',\n",
        "              metrics=['accuracy'])\n",
        "\n",
        "###"
      ],
      "execution_count": 12,
      "outputs": [
        {
          "output_type": "stream",
          "text": [
            "WARNING:tensorflow:From /usr/local/lib/python3.6/dist-packages/keras/optimizers.py:793: The name tf.train.Optimizer is deprecated. Please use tf.compat.v1.train.Optimizer instead.\n",
            "\n",
            "WARNING:tensorflow:From /usr/local/lib/python3.6/dist-packages/keras/backend/tensorflow_backend.py:3576: The name tf.log is deprecated. Please use tf.math.log instead.\n",
            "\n"
          ],
          "name": "stdout"
        }
      ]
    },
    {
      "cell_type": "code",
      "metadata": {
        "id": "05ADauOxiHfg",
        "colab_type": "code",
        "colab": {}
      },
      "source": [
        "## para guardar el modelo\n",
        "filepath = \"prueba1.h5\"\n",
        "model_checkpoint = ModelCheckpoint(filepath, monitor='loss',verbose=1, save_best_only=True)"
      ],
      "execution_count": 0,
      "outputs": []
    },
    {
      "cell_type": "code",
      "metadata": {
        "id": "7c19N8MPiHfj",
        "colab_type": "code",
        "outputId": "dd35c461-236d-4d36-cabe-3b1f5d434bea",
        "colab": {
          "base_uri": "https://localhost:8080/",
          "height": 1000
        }
      },
      "source": [
        "history = model.fit(mnist.train.images, mnist.train.labels,\n",
        "              batch_size=32,\n",
        "              epochs=50, validation_data=(mnist.test.images, mnist.test.labels), callbacks=[model_checkpoint])"
      ],
      "execution_count": 14,
      "outputs": [
        {
          "output_type": "stream",
          "text": [
            "WARNING:tensorflow:From /usr/local/lib/python3.6/dist-packages/tensorflow_core/python/ops/math_grad.py:1424: where (from tensorflow.python.ops.array_ops) is deprecated and will be removed in a future version.\n",
            "Instructions for updating:\n",
            "Use tf.where in 2.0, which has the same broadcast rule as np.where\n",
            "WARNING:tensorflow:From /usr/local/lib/python3.6/dist-packages/keras/backend/tensorflow_backend.py:1033: The name tf.assign_add is deprecated. Please use tf.compat.v1.assign_add instead.\n",
            "\n",
            "WARNING:tensorflow:From /usr/local/lib/python3.6/dist-packages/keras/backend/tensorflow_backend.py:1020: The name tf.assign is deprecated. Please use tf.compat.v1.assign instead.\n",
            "\n",
            "WARNING:tensorflow:From /usr/local/lib/python3.6/dist-packages/keras/backend/tensorflow_backend.py:3005: The name tf.Session is deprecated. Please use tf.compat.v1.Session instead.\n",
            "\n",
            "Train on 55000 samples, validate on 10000 samples\n",
            "Epoch 1/50\n",
            "WARNING:tensorflow:From /usr/local/lib/python3.6/dist-packages/keras/backend/tensorflow_backend.py:190: The name tf.get_default_session is deprecated. Please use tf.compat.v1.get_default_session instead.\n",
            "\n",
            "WARNING:tensorflow:From /usr/local/lib/python3.6/dist-packages/keras/backend/tensorflow_backend.py:197: The name tf.ConfigProto is deprecated. Please use tf.compat.v1.ConfigProto instead.\n",
            "\n",
            "WARNING:tensorflow:From /usr/local/lib/python3.6/dist-packages/keras/backend/tensorflow_backend.py:207: The name tf.global_variables is deprecated. Please use tf.compat.v1.global_variables instead.\n",
            "\n",
            "WARNING:tensorflow:From /usr/local/lib/python3.6/dist-packages/keras/backend/tensorflow_backend.py:216: The name tf.is_variable_initialized is deprecated. Please use tf.compat.v1.is_variable_initialized instead.\n",
            "\n",
            "WARNING:tensorflow:From /usr/local/lib/python3.6/dist-packages/keras/backend/tensorflow_backend.py:223: The name tf.variables_initializer is deprecated. Please use tf.compat.v1.variables_initializer instead.\n",
            "\n",
            "55000/55000 [==============================] - 3s 62us/step - loss: 0.6135 - acc: 0.8388 - val_loss: 0.2720 - val_acc: 0.9207\n",
            "\n",
            "Epoch 00001: loss improved from inf to 0.61349, saving model to prueba1.h5\n",
            "Epoch 2/50\n",
            "55000/55000 [==============================] - 3s 48us/step - loss: 0.2429 - acc: 0.9279 - val_loss: 0.2062 - val_acc: 0.9392\n",
            "\n",
            "Epoch 00002: loss improved from 0.61349 to 0.24295, saving model to prueba1.h5\n",
            "Epoch 3/50\n",
            "55000/55000 [==============================] - 3s 48us/step - loss: 0.1925 - acc: 0.9427 - val_loss: 0.1704 - val_acc: 0.9482\n",
            "\n",
            "Epoch 00003: loss improved from 0.24295 to 0.19255, saving model to prueba1.h5\n",
            "Epoch 4/50\n",
            "55000/55000 [==============================] - 3s 48us/step - loss: 0.1644 - acc: 0.9506 - val_loss: 0.1633 - val_acc: 0.9478\n",
            "\n",
            "Epoch 00004: loss improved from 0.19255 to 0.16439, saving model to prueba1.h5\n",
            "Epoch 5/50\n",
            "55000/55000 [==============================] - 3s 49us/step - loss: 0.1451 - acc: 0.9571 - val_loss: 0.1494 - val_acc: 0.9550\n",
            "\n",
            "Epoch 00005: loss improved from 0.16439 to 0.14508, saving model to prueba1.h5\n",
            "Epoch 6/50\n",
            "55000/55000 [==============================] - 3s 48us/step - loss: 0.1325 - acc: 0.9603 - val_loss: 0.1338 - val_acc: 0.9605\n",
            "\n",
            "Epoch 00006: loss improved from 0.14508 to 0.13252, saving model to prueba1.h5\n",
            "Epoch 7/50\n",
            "55000/55000 [==============================] - 3s 46us/step - loss: 0.1228 - acc: 0.9638 - val_loss: 0.1358 - val_acc: 0.9581\n",
            "\n",
            "Epoch 00007: loss improved from 0.13252 to 0.12276, saving model to prueba1.h5\n",
            "Epoch 8/50\n",
            "55000/55000 [==============================] - 3s 47us/step - loss: 0.1150 - acc: 0.9661 - val_loss: 0.1317 - val_acc: 0.9609\n",
            "\n",
            "Epoch 00008: loss improved from 0.12276 to 0.11496, saving model to prueba1.h5\n",
            "Epoch 9/50\n",
            "55000/55000 [==============================] - 3s 46us/step - loss: 0.1088 - acc: 0.9685 - val_loss: 0.1344 - val_acc: 0.9614\n",
            "\n",
            "Epoch 00009: loss improved from 0.11496 to 0.10881, saving model to prueba1.h5\n",
            "Epoch 10/50\n",
            "55000/55000 [==============================] - 3s 46us/step - loss: 0.1039 - acc: 0.9692 - val_loss: 0.1270 - val_acc: 0.9619\n",
            "\n",
            "Epoch 00010: loss improved from 0.10881 to 0.10392, saving model to prueba1.h5\n",
            "Epoch 11/50\n",
            "55000/55000 [==============================] - 3s 48us/step - loss: 0.0991 - acc: 0.9704 - val_loss: 0.1320 - val_acc: 0.9625\n",
            "\n",
            "Epoch 00011: loss improved from 0.10392 to 0.09906, saving model to prueba1.h5\n",
            "Epoch 12/50\n",
            "55000/55000 [==============================] - 3s 48us/step - loss: 0.0955 - acc: 0.9715 - val_loss: 0.1263 - val_acc: 0.9632\n",
            "\n",
            "Epoch 00012: loss improved from 0.09906 to 0.09548, saving model to prueba1.h5\n",
            "Epoch 13/50\n",
            "55000/55000 [==============================] - 3s 48us/step - loss: 0.0918 - acc: 0.9721 - val_loss: 0.1216 - val_acc: 0.9645\n",
            "\n",
            "Epoch 00013: loss improved from 0.09548 to 0.09185, saving model to prueba1.h5\n",
            "Epoch 14/50\n",
            "55000/55000 [==============================] - 3s 49us/step - loss: 0.0881 - acc: 0.9738 - val_loss: 0.1244 - val_acc: 0.9635\n",
            "\n",
            "Epoch 00014: loss improved from 0.09185 to 0.08812, saving model to prueba1.h5\n",
            "Epoch 15/50\n",
            "55000/55000 [==============================] - 3s 49us/step - loss: 0.0852 - acc: 0.9750 - val_loss: 0.1226 - val_acc: 0.9656\n",
            "\n",
            "Epoch 00015: loss improved from 0.08812 to 0.08521, saving model to prueba1.h5\n",
            "Epoch 16/50\n",
            "55000/55000 [==============================] - 3s 48us/step - loss: 0.0828 - acc: 0.9750 - val_loss: 0.1196 - val_acc: 0.9659\n",
            "\n",
            "Epoch 00016: loss improved from 0.08521 to 0.08276, saving model to prueba1.h5\n",
            "Epoch 17/50\n",
            "55000/55000 [==============================] - 3s 48us/step - loss: 0.0804 - acc: 0.9764 - val_loss: 0.1278 - val_acc: 0.9640\n",
            "\n",
            "Epoch 00017: loss improved from 0.08276 to 0.08042, saving model to prueba1.h5\n",
            "Epoch 18/50\n",
            "55000/55000 [==============================] - 3s 48us/step - loss: 0.0777 - acc: 0.9776 - val_loss: 0.1237 - val_acc: 0.9658\n",
            "\n",
            "Epoch 00018: loss improved from 0.08042 to 0.07766, saving model to prueba1.h5\n",
            "Epoch 19/50\n",
            "55000/55000 [==============================] - 3s 49us/step - loss: 0.0755 - acc: 0.9783 - val_loss: 0.1223 - val_acc: 0.9655\n",
            "\n",
            "Epoch 00019: loss improved from 0.07766 to 0.07551, saving model to prueba1.h5\n",
            "Epoch 20/50\n",
            "55000/55000 [==============================] - 3s 49us/step - loss: 0.0734 - acc: 0.9791 - val_loss: 0.1226 - val_acc: 0.9655\n",
            "\n",
            "Epoch 00020: loss improved from 0.07551 to 0.07342, saving model to prueba1.h5\n",
            "Epoch 21/50\n",
            "55000/55000 [==============================] - 3s 49us/step - loss: 0.0725 - acc: 0.9788 - val_loss: 0.1205 - val_acc: 0.9674\n",
            "\n",
            "Epoch 00021: loss improved from 0.07342 to 0.07246, saving model to prueba1.h5\n",
            "Epoch 22/50\n",
            "55000/55000 [==============================] - 3s 48us/step - loss: 0.0702 - acc: 0.9796 - val_loss: 0.1235 - val_acc: 0.9653\n",
            "\n",
            "Epoch 00022: loss improved from 0.07246 to 0.07018, saving model to prueba1.h5\n",
            "Epoch 23/50\n",
            "55000/55000 [==============================] - 3s 48us/step - loss: 0.0689 - acc: 0.9806 - val_loss: 0.1243 - val_acc: 0.9668\n",
            "\n",
            "Epoch 00023: loss improved from 0.07018 to 0.06890, saving model to prueba1.h5\n",
            "Epoch 24/50\n",
            "55000/55000 [==============================] - 3s 47us/step - loss: 0.0660 - acc: 0.9806 - val_loss: 0.1295 - val_acc: 0.9656\n",
            "\n",
            "Epoch 00024: loss improved from 0.06890 to 0.06596, saving model to prueba1.h5\n",
            "Epoch 25/50\n",
            "55000/55000 [==============================] - 3s 48us/step - loss: 0.0659 - acc: 0.9809 - val_loss: 0.1253 - val_acc: 0.9679\n",
            "\n",
            "Epoch 00025: loss improved from 0.06596 to 0.06589, saving model to prueba1.h5\n",
            "Epoch 26/50\n",
            "55000/55000 [==============================] - 3s 49us/step - loss: 0.0638 - acc: 0.9823 - val_loss: 0.1284 - val_acc: 0.9670\n",
            "\n",
            "Epoch 00026: loss improved from 0.06589 to 0.06381, saving model to prueba1.h5\n",
            "Epoch 27/50\n",
            "55000/55000 [==============================] - 3s 48us/step - loss: 0.0625 - acc: 0.9821 - val_loss: 0.1309 - val_acc: 0.9661\n",
            "\n",
            "Epoch 00027: loss improved from 0.06381 to 0.06248, saving model to prueba1.h5\n",
            "Epoch 28/50\n",
            "55000/55000 [==============================] - 3s 48us/step - loss: 0.0621 - acc: 0.9827 - val_loss: 0.1280 - val_acc: 0.9660\n",
            "\n",
            "Epoch 00028: loss improved from 0.06248 to 0.06213, saving model to prueba1.h5\n",
            "Epoch 29/50\n",
            "55000/55000 [==============================] - 3s 48us/step - loss: 0.0604 - acc: 0.9831 - val_loss: 0.1265 - val_acc: 0.9672\n",
            "\n",
            "Epoch 00029: loss improved from 0.06213 to 0.06041, saving model to prueba1.h5\n",
            "Epoch 30/50\n",
            "55000/55000 [==============================] - 3s 48us/step - loss: 0.0595 - acc: 0.9831 - val_loss: 0.1440 - val_acc: 0.9641\n",
            "\n",
            "Epoch 00030: loss improved from 0.06041 to 0.05947, saving model to prueba1.h5\n",
            "Epoch 31/50\n",
            "55000/55000 [==============================] - 3s 48us/step - loss: 0.0590 - acc: 0.9834 - val_loss: 0.1342 - val_acc: 0.9668\n",
            "\n",
            "Epoch 00031: loss improved from 0.05947 to 0.05897, saving model to prueba1.h5\n",
            "Epoch 32/50\n",
            "55000/55000 [==============================] - 3s 49us/step - loss: 0.0574 - acc: 0.9835 - val_loss: 0.1297 - val_acc: 0.9682\n",
            "\n",
            "Epoch 00032: loss improved from 0.05897 to 0.05740, saving model to prueba1.h5\n",
            "Epoch 33/50\n",
            "55000/55000 [==============================] - 3s 50us/step - loss: 0.0559 - acc: 0.9839 - val_loss: 0.1323 - val_acc: 0.9682\n",
            "\n",
            "Epoch 00033: loss improved from 0.05740 to 0.05592, saving model to prueba1.h5\n",
            "Epoch 34/50\n",
            "55000/55000 [==============================] - 3s 47us/step - loss: 0.0556 - acc: 0.9839 - val_loss: 0.1370 - val_acc: 0.9678\n",
            "\n",
            "Epoch 00034: loss improved from 0.05592 to 0.05565, saving model to prueba1.h5\n",
            "Epoch 35/50\n",
            "55000/55000 [==============================] - 3s 49us/step - loss: 0.0544 - acc: 0.9850 - val_loss: 0.1359 - val_acc: 0.9654\n",
            "\n",
            "Epoch 00035: loss improved from 0.05565 to 0.05442, saving model to prueba1.h5\n",
            "Epoch 36/50\n",
            "55000/55000 [==============================] - 3s 49us/step - loss: 0.0530 - acc: 0.9854 - val_loss: 0.1378 - val_acc: 0.9669\n",
            "\n",
            "Epoch 00036: loss improved from 0.05442 to 0.05298, saving model to prueba1.h5\n",
            "Epoch 37/50\n",
            "55000/55000 [==============================] - 3s 50us/step - loss: 0.0531 - acc: 0.9849 - val_loss: 0.1419 - val_acc: 0.9674\n",
            "\n",
            "Epoch 00037: loss did not improve from 0.05298\n",
            "Epoch 38/50\n",
            "55000/55000 [==============================] - 3s 48us/step - loss: 0.0514 - acc: 0.9857 - val_loss: 0.1402 - val_acc: 0.9665\n",
            "\n",
            "Epoch 00038: loss improved from 0.05298 to 0.05143, saving model to prueba1.h5\n",
            "Epoch 39/50\n",
            "55000/55000 [==============================] - 3s 50us/step - loss: 0.0503 - acc: 0.9861 - val_loss: 0.1384 - val_acc: 0.9660\n",
            "\n",
            "Epoch 00039: loss improved from 0.05143 to 0.05029, saving model to prueba1.h5\n",
            "Epoch 40/50\n",
            "55000/55000 [==============================] - 3s 50us/step - loss: 0.0500 - acc: 0.9865 - val_loss: 0.1467 - val_acc: 0.9672\n",
            "\n",
            "Epoch 00040: loss improved from 0.05029 to 0.04995, saving model to prueba1.h5\n",
            "Epoch 41/50\n",
            "55000/55000 [==============================] - 3s 50us/step - loss: 0.0485 - acc: 0.9866 - val_loss: 0.1445 - val_acc: 0.9655\n",
            "\n",
            "Epoch 00041: loss improved from 0.04995 to 0.04851, saving model to prueba1.h5\n",
            "Epoch 42/50\n",
            "55000/55000 [==============================] - 3s 50us/step - loss: 0.0484 - acc: 0.9868 - val_loss: 0.1438 - val_acc: 0.9665\n",
            "\n",
            "Epoch 00042: loss improved from 0.04851 to 0.04837, saving model to prueba1.h5\n",
            "Epoch 43/50\n",
            "55000/55000 [==============================] - 3s 50us/step - loss: 0.0472 - acc: 0.9870 - val_loss: 0.1475 - val_acc: 0.9659\n",
            "\n",
            "Epoch 00043: loss improved from 0.04837 to 0.04719, saving model to prueba1.h5\n",
            "Epoch 44/50\n",
            "55000/55000 [==============================] - 3s 48us/step - loss: 0.0474 - acc: 0.9875 - val_loss: 0.1478 - val_acc: 0.9645\n",
            "\n",
            "Epoch 00044: loss did not improve from 0.04719\n",
            "Epoch 45/50\n",
            "55000/55000 [==============================] - 3s 48us/step - loss: 0.0460 - acc: 0.9875 - val_loss: 0.1501 - val_acc: 0.9665\n",
            "\n",
            "Epoch 00045: loss improved from 0.04719 to 0.04600, saving model to prueba1.h5\n",
            "Epoch 46/50\n",
            "55000/55000 [==============================] - 3s 48us/step - loss: 0.0450 - acc: 0.9877 - val_loss: 0.1501 - val_acc: 0.9664\n",
            "\n",
            "Epoch 00046: loss improved from 0.04600 to 0.04500, saving model to prueba1.h5\n",
            "Epoch 47/50\n",
            "55000/55000 [==============================] - 3s 47us/step - loss: 0.0438 - acc: 0.9884 - val_loss: 0.1532 - val_acc: 0.9665\n",
            "\n",
            "Epoch 00047: loss improved from 0.04500 to 0.04378, saving model to prueba1.h5\n",
            "Epoch 48/50\n",
            "55000/55000 [==============================] - 3s 50us/step - loss: 0.0436 - acc: 0.9877 - val_loss: 0.1508 - val_acc: 0.9663\n",
            "\n",
            "Epoch 00048: loss improved from 0.04378 to 0.04362, saving model to prueba1.h5\n",
            "Epoch 49/50\n",
            "55000/55000 [==============================] - 3s 50us/step - loss: 0.0433 - acc: 0.9884 - val_loss: 0.1508 - val_acc: 0.9677\n",
            "\n",
            "Epoch 00049: loss improved from 0.04362 to 0.04331, saving model to prueba1.h5\n",
            "Epoch 50/50\n",
            "55000/55000 [==============================] - 3s 48us/step - loss: 0.0429 - acc: 0.9887 - val_loss: 0.1568 - val_acc: 0.9664\n",
            "\n",
            "Epoch 00050: loss improved from 0.04331 to 0.04288, saving model to prueba1.h5\n"
          ],
          "name": "stdout"
        }
      ]
    },
    {
      "cell_type": "code",
      "metadata": {
        "id": "l7p8geSZiHfm",
        "colab_type": "code",
        "colab": {}
      },
      "source": [
        ""
      ],
      "execution_count": 0,
      "outputs": []
    },
    {
      "cell_type": "code",
      "metadata": {
        "id": "ITP_KrrriHfp",
        "colab_type": "code",
        "outputId": "f5fb0c82-a1a6-44b4-a69f-04050c732064",
        "colab": {
          "base_uri": "https://localhost:8080/",
          "height": 562
        }
      },
      "source": [
        "## visuzalimos curvas de entrenamiento\n",
        "\n",
        "plt.figure()\n",
        "plt.title(\"Accuracy vs epochs\")\n",
        "plt.plot( history.history['acc'] )\n",
        "plt.plot( history.history['val_acc'] )\n",
        "plt.legend(['Training Accuracy', 'Validation Accuracy'])\n",
        "\n",
        "\n",
        "plt.figure()\n",
        "plt.title(\"Loss vs epochs\")\n",
        "plt.plot( history.history['loss'] )\n",
        "plt.plot( history.history['val_loss'] )\n",
        "plt.legend(['Training Loss', 'Validation Loss'])"
      ],
      "execution_count": 16,
      "outputs": [
        {
          "output_type": "execute_result",
          "data": {
            "text/plain": [
              "<matplotlib.legend.Legend at 0x7fa3689e3eb8>"
            ]
          },
          "metadata": {
            "tags": []
          },
          "execution_count": 16
        },
        {
          "output_type": "display_data",
          "data": {
            "image/png": "[encoded data removed]",
            "text/plain": [
              "<Figure size 432x288 with 1 Axes>"
            ]
          },
          "metadata": {
            "tags": []
          }
        },
        {
          "output_type": "display_data",
          "data": {
            "image/png": "[encoded data removed]",
            "text/plain": [
              "<Figure size 432x288 with 1 Axes>"
            ]
          },
          "metadata": {
            "tags": []
          }
        }
      ]
    },
    {
      "cell_type": "code",
      "metadata": {
        "id": "csDjYLEAiHft",
        "colab_type": "code",
        "colab": {}
      },
      "source": [
        ""
      ],
      "execution_count": 0,
      "outputs": []
    },
    {
      "cell_type": "markdown",
      "metadata": {
        "id": "dP2gbZEwiHfw",
        "colab_type": "text"
      },
      "source": [
        "## Usemos este modelo para hacer predicciones"
      ]
    },
    {
      "cell_type": "code",
      "metadata": {
        "id": "2npkRJzwiHfx",
        "colab_type": "code",
        "colab": {
          "base_uri": "https://localhost:8080/",
          "height": 34
        },
        "outputId": "2b88a695-d839-4c86-fb56-655576464454"
      },
      "source": [
        "## A completar: utilizar imagenes de testeo\n",
        "\n",
        "predicciones = model.predict(mnist.test.images)\n",
        "print(predicciones.shape)\n",
        "##"
      ],
      "execution_count": 20,
      "outputs": [
        {
          "output_type": "stream",
          "text": [
            "(10000, 10)\n"
          ],
          "name": "stdout"
        }
      ]
    },
    {
      "cell_type": "code",
      "metadata": {
        "id": "rv84L0MYiHf0",
        "colab_type": "code",
        "outputId": "dffef7dd-57d0-417e-9856-cc5d27c8c41e",
        "colab": {
          "base_uri": "https://localhost:8080/",
          "height": 1000
        }
      },
      "source": [
        "fig, ax = plt.subplots(3, 3, figsize=[15, 40])\n",
        "\n",
        "\n",
        "for j in range(3):\n",
        "    for i in range(3):\n",
        "        \n",
        "       random_image = np.random.randint(low=0, high=1000, size=1)\n",
        "\n",
        "       ax[i,j].imshow(mnist.test.images[random_image].reshape(28,28), 'gray')\n",
        "       ax[i,j].set_xticks([])\n",
        "       ax[i,j].set_yticks([])\n",
        "       ax[i,j].set_title('Predccion de mi red:  ' + str(np.argmax(predicciones[random_image])), color='r')\n",
        "\n",
        "plt.show()"
      ],
      "execution_count": 23,
      "outputs": [
        {
          "output_type": "display_data",
          "data": {
            "image/png": "[encoded data removed]",
            "text/plain": [
              "<Figure size 1080x2880 with 9 Axes>"
            ]
          },
          "metadata": {
            "tags": []
          }
        }
      ]
    },
    {
      "cell_type": "code",
      "metadata": {
        "id": "2bLaI0ssiHf3",
        "colab_type": "code",
        "colab": {}
      },
      "source": [
        ""
      ],
      "execution_count": 0,
      "outputs": []
    },
    {
      "cell_type": "code",
      "metadata": {
        "id": "3vgW1REfiHf6",
        "colab_type": "code",
        "colab": {}
      },
      "source": [
        ""
      ],
      "execution_count": 0,
      "outputs": []
    }
  ]
}