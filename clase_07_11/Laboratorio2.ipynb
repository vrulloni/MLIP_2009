{
  "nbformat": 4,
  "nbformat_minor": 0,
  "metadata": {
    "anaconda-cloud": {},
    "kernelspec": {
      "display_name": "Python 3",
      "language": "python",
      "name": "python3"
    },
    "language_info": {
      "codemirror_mode": {
        "name": "ipython",
        "version": 3
      },
      "file_extension": ".py",
      "mimetype": "text/x-python",
      "name": "python",
      "nbconvert_exporter": "python",
      "pygments_lexer": "ipython3",
      "version": "3.7.3"
    },
    "colab": {
      "name": "Laboratorio2.ipynb",
      "provenance": []
    }
  },
  "cells": [
    {
      "cell_type": "markdown",
      "metadata": {
        "id": "ig_EUK7UpGHE",
        "colab_type": "text"
      },
      "source": [
        "### Curso-Taller 2019: Aprendizaje Automático e Imágenes en Python \n",
        "* Docentes:  Dra. Valeria S. Rulloni - Dra. Laura M. Vargas\n",
        "* Ayudantes: Axel Aguerreberry - Sebastián Palacio\n",
        "* Colaboradoras: Dra. Ana Carolina Maldonado - Dra. Claudia Egea\n",
        "\n",
        "### Temario a desarrollar:\n",
        "*\tUso y herramientas básicas de Python\n",
        "*\tImágenes digitales: tipos (binarias, monocromáticas y a color)\n",
        "*\tHistograma. Mejora de la imagen: contraste, filtros: suavizado y detección de bordes.\n",
        "*\tUmbralado y Binarización. Operaciones Morfológicas: erosión, dilatación, cierre y apertura.\n",
        "*\t**Clasificación de imágenes.**\n",
        "*\t**Aprendizaje automático**\n",
        "*\t**Aprendizaje profundo: Redes neuronales**\n",
        "*\tAplicaciones: Grafos para segmentación de imágenes, entre otras.\n",
        "\n"
      ]
    },
    {
      "cell_type": "markdown",
      "metadata": {
        "id": "YofqDHYMpGHP",
        "colab_type": "text"
      },
      "source": [
        "# Laboratorio Parte 2: Keras, MNIST data y redes neuronales convolucionales (CNN)"
      ]
    },
    {
      "cell_type": "code",
      "metadata": {
        "id": "IHTAzB7epGHR",
        "colab_type": "code",
        "outputId": "5d29c2e9-e982-4c11-8cd4-4c347ffa9399",
        "colab": {
          "base_uri": "https://localhost:8080/",
          "height": 80
        }
      },
      "source": [
        "# importo librerias necesarias     \n",
        "import matplotlib\n",
        "import matplotlib.pyplot as plt\n",
        "import tensorflow as tf\n",
        "import numpy as np\n",
        "from keras.layers import Input, Dense, Conv2D, MaxPooling2D, Flatten\n",
        "from keras.models import Model\n",
        "from keras.callbacks import EarlyStopping, ModelCheckpoint, Callback"
      ],
      "execution_count": 0,
      "outputs": [
        {
          "output_type": "display_data",
          "data": {
            "text/html": [
              "<p style=\"color: red;\">\n",
              "The default version of TensorFlow in Colab will soon switch to TensorFlow 2.x.<br>\n",
              "We recommend you <a href=\"https://www.tensorflow.org/guide/migrate\" target=\"_blank\">upgrade</a> now \n",
              "or ensure your notebook will continue to use TensorFlow 1.x via the <code>%tensorflow_version 1.x</code> magic:\n",
              "<a href=\"https://colab.research.google.com/notebooks/tensorflow_version.ipynb\" target=\"_blank\">more info</a>.</p>\n"
            ],
            "text/plain": [
              "<IPython.core.display.HTML object>"
            ]
          },
          "metadata": {
            "tags": []
          }
        },
        {
          "output_type": "stream",
          "text": [
            "Using TensorFlow backend.\n"
          ],
          "name": "stderr"
        }
      ]
    },
    {
      "cell_type": "code",
      "metadata": {
        "id": "fm-5wwpjpGHe",
        "colab_type": "code",
        "outputId": "5bb121d9-9d02-4c20-94fb-3609ee8079cf",
        "colab": {
          "base_uri": "https://localhost:8080/",
          "height": 530
        }
      },
      "source": [
        "from tensorflow.examples.tutorials.mnist import input_data\n",
        "\n",
        "# importo y guardo MNIST data\n",
        "mnist = input_data.read_data_sets(\"./mnist/data/\", one_hot=True)"
      ],
      "execution_count": 0,
      "outputs": [
        {
          "output_type": "stream",
          "text": [
            "WARNING:tensorflow:From <ipython-input-2-5eb3549ca727>:4: read_data_sets (from tensorflow.contrib.learn.python.learn.datasets.mnist) is deprecated and will be removed in a future version.\n",
            "Instructions for updating:\n",
            "Please use alternatives such as official/mnist/dataset.py from tensorflow/models.\n",
            "WARNING:tensorflow:From /usr/local/lib/python3.6/dist-packages/tensorflow_core/contrib/learn/python/learn/datasets/mnist.py:260: maybe_download (from tensorflow.contrib.learn.python.learn.datasets.base) is deprecated and will be removed in a future version.\n",
            "Instructions for updating:\n",
            "Please write your own downloading logic.\n",
            "WARNING:tensorflow:From /usr/local/lib/python3.6/dist-packages/tensorflow_core/contrib/learn/python/learn/datasets/base.py:252: _internal_retry.<locals>.wrap.<locals>.wrapped_fn (from tensorflow.contrib.learn.python.learn.datasets.base) is deprecated and will be removed in a future version.\n",
            "Instructions for updating:\n",
            "Please use urllib or similar directly.\n",
            "Successfully downloaded train-images-idx3-ubyte.gz 9912422 bytes.\n",
            "WARNING:tensorflow:From /usr/local/lib/python3.6/dist-packages/tensorflow_core/contrib/learn/python/learn/datasets/mnist.py:262: extract_images (from tensorflow.contrib.learn.python.learn.datasets.mnist) is deprecated and will be removed in a future version.\n",
            "Instructions for updating:\n",
            "Please use tf.data to implement this functionality.\n",
            "Extracting ./mnist/data/train-images-idx3-ubyte.gz\n",
            "Successfully downloaded train-labels-idx1-ubyte.gz 28881 bytes.\n",
            "WARNING:tensorflow:From /usr/local/lib/python3.6/dist-packages/tensorflow_core/contrib/learn/python/learn/datasets/mnist.py:267: extract_labels (from tensorflow.contrib.learn.python.learn.datasets.mnist) is deprecated and will be removed in a future version.\n",
            "Instructions for updating:\n",
            "Please use tf.data to implement this functionality.\n",
            "Extracting ./mnist/data/train-labels-idx1-ubyte.gz\n",
            "WARNING:tensorflow:From /usr/local/lib/python3.6/dist-packages/tensorflow_core/contrib/learn/python/learn/datasets/mnist.py:110: dense_to_one_hot (from tensorflow.contrib.learn.python.learn.datasets.mnist) is deprecated and will be removed in a future version.\n",
            "Instructions for updating:\n",
            "Please use tf.one_hot on tensors.\n",
            "Successfully downloaded t10k-images-idx3-ubyte.gz 1648877 bytes.\n",
            "Extracting ./mnist/data/t10k-images-idx3-ubyte.gz\n",
            "Successfully downloaded t10k-labels-idx1-ubyte.gz 4542 bytes.\n",
            "Extracting ./mnist/data/t10k-labels-idx1-ubyte.gz\n",
            "WARNING:tensorflow:From /usr/local/lib/python3.6/dist-packages/tensorflow_core/contrib/learn/python/learn/datasets/mnist.py:290: DataSet.__init__ (from tensorflow.contrib.learn.python.learn.datasets.mnist) is deprecated and will be removed in a future version.\n",
            "Instructions for updating:\n",
            "Please use alternatives such as official/mnist/dataset.py from tensorflow/models.\n"
          ],
          "name": "stdout"
        }
      ]
    },
    {
      "cell_type": "markdown",
      "metadata": {
        "id": "BHE-CmgDpGHj",
        "colab_type": "text"
      },
      "source": [
        "## Exploración del dataset"
      ]
    },
    {
      "cell_type": "code",
      "metadata": {
        "id": "VAKy-CLtpGHk",
        "colab_type": "code",
        "outputId": "5743e1cf-9699-49d6-8504-cf6863f673b7",
        "colab": {
          "base_uri": "https://localhost:8080/",
          "height": 85
        }
      },
      "source": [
        "# dimensiones de la data\n",
        "print(f\"Imagenes de Entrenamiento: {mnist.train.images.shape}\")\n",
        "print(f\"Labels de Entrenamiento: {mnist.train.labels.shape}\")\n",
        "\n",
        "print(f\"Imagenes de Testeo: {mnist.test.images.shape}\")\n",
        "print(f\"Labels de Testeo: {mnist.test.labels.shape}\")"
      ],
      "execution_count": 0,
      "outputs": [
        {
          "output_type": "stream",
          "text": [
            "Imagenes de Entrenamiento: (55000, 784)\n",
            "Labels de Entrenamiento: (55000, 10)\n",
            "Imagenes de Testeo: (10000, 784)\n",
            "Labels de Testeo: (10000, 10)\n"
          ],
          "name": "stdout"
        }
      ]
    },
    {
      "cell_type": "code",
      "metadata": {
        "id": "tqirwdHEpGHp",
        "colab_type": "code",
        "outputId": "1662ffc6-7d05-4485-a0ba-cc6efe743e04",
        "colab": {
          "base_uri": "https://localhost:8080/",
          "height": 1000
        }
      },
      "source": [
        "# visualizamos algunas imagenes\n",
        "fig, ax = plt.subplots(3, 3, figsize=[15, 40])\n",
        "\n",
        "random_image = np.random.randint(low=0, high=55000, size=1)\n",
        "\n",
        "for j in range(3):\n",
        "    for i in range(3):\n",
        "        \n",
        "       random_image = np.random.randint(low=0, high=55000, size=1)\n",
        "\n",
        "       ax[i,j].imshow(mnist.train.images[random_image].reshape(28,28), 'gray')\n",
        "       ax[i,j].set_xticks([])\n",
        "       ax[i,j].set_yticks([])\n",
        "       ax[i,j].set_title('Label:  ' + str(mnist.train.labels[random_image]), color='r')\n",
        "\n",
        "\n",
        "#fig.subplots_adjust(wspace=0.1, hspace=0)\n",
        "plt.show()"
      ],
      "execution_count": 0,
      "outputs": [
        {
          "output_type": "display_data",
          "data": {
            "image/png": "[encoded data removed]",
            "text/plain": [
              "<Figure size 1080x2880 with 9 Axes>"
            ]
          },
          "metadata": {
            "tags": []
          }
        }
      ]
    },
    {
      "cell_type": "code",
      "metadata": {
        "id": "tgkDCMnopGHt",
        "colab_type": "code",
        "colab": {}
      },
      "source": [
        ""
      ],
      "execution_count": 0,
      "outputs": []
    },
    {
      "cell_type": "markdown",
      "metadata": {
        "id": "3BdBTq_1pGHx",
        "colab_type": "text"
      },
      "source": [
        "# Definición y entrenamiento del Modelo"
      ]
    },
    {
      "cell_type": "code",
      "metadata": {
        "id": "wEClD4GApGHy",
        "colab_type": "code",
        "colab": {}
      },
      "source": [
        "X_train, y_train = mnist.train.images, mnist.train.labels\n",
        "X_test, y_test = mnist.test.images, mnist.test.labels"
      ],
      "execution_count": 0,
      "outputs": []
    },
    {
      "cell_type": "code",
      "metadata": {
        "id": "BNRXTXYDpGH1",
        "colab_type": "code",
        "colab": {}
      },
      "source": [
        "X_train, X_test = X_train.reshape(55000, 28, 28, 1), X_test.reshape(10000, 28, 28, 1)"
      ],
      "execution_count": 0,
      "outputs": []
    },
    {
      "cell_type": "markdown",
      "metadata": {
        "id": "ecpRggCWpGHi",
        "colab_type": "text"
      },
      "source": [
        "### Documentación de Keras: https://keras.io/"
      ]
    },
    {
      "cell_type": "code",
      "metadata": {
        "id": "3HllT5hKpGH6",
        "colab_type": "code",
        "outputId": "cc7bf884-8538-47b0-e91e-c6db9a05e8b2",
        "colab": {
          "base_uri": "https://localhost:8080/",
          "height": 173
        }
      },
      "source": [
        "### A completar: definir capa de entrada, capas ocultas, y capa de salida\n",
        "### Utilizar funciones Input(), Dense()\n",
        "\n",
        "entrada = Input(shape=(28,28,1))\n",
        "\n",
        "conv1 = Conv2D(64, 5,activation=\"relu\")(entrada)\n",
        "maxPool1 = MaxPooling2D(pool_size=(2, 2))(conv1)\n",
        "\n",
        "conv2 = Conv2D(128, 5,activation=\"relu\")(maxPool1)\n",
        "maxPool2 = MaxPooling2D(pool_size=(2, 2))(conv2)\n",
        "\n",
        "flatten = Flatten()(maxPool2)\n",
        "\n",
        "dense1 = Dense(256, activation=\"sigmoid\")(flatten)\n",
        "dense2 = Dense(64, activation=\"sigmoid\")(dense1)\n",
        "salida = Dense(10, activation=\"softmax\")(dense2)\n",
        "\n",
        "\n",
        "###"
      ],
      "execution_count": 0,
      "outputs": [
        {
          "output_type": "stream",
          "text": [
            "WARNING:tensorflow:From /usr/local/lib/python3.6/dist-packages/keras/backend/tensorflow_backend.py:66: The name tf.get_default_graph is deprecated. Please use tf.compat.v1.get_default_graph instead.\n",
            "\n",
            "WARNING:tensorflow:From /usr/local/lib/python3.6/dist-packages/keras/backend/tensorflow_backend.py:541: The name tf.placeholder is deprecated. Please use tf.compat.v1.placeholder instead.\n",
            "\n",
            "WARNING:tensorflow:From /usr/local/lib/python3.6/dist-packages/keras/backend/tensorflow_backend.py:4432: The name tf.random_uniform is deprecated. Please use tf.random.uniform instead.\n",
            "\n",
            "WARNING:tensorflow:From /usr/local/lib/python3.6/dist-packages/keras/backend/tensorflow_backend.py:4267: The name tf.nn.max_pool is deprecated. Please use tf.nn.max_pool2d instead.\n",
            "\n"
          ],
          "name": "stdout"
        }
      ]
    },
    {
      "cell_type": "code",
      "metadata": {
        "id": "xBhaE3oIpGH-",
        "colab_type": "code",
        "colab": {}
      },
      "source": [
        "### A completar: definir entrada y salida del modelo\n",
        "\n",
        "model = Model(inputs=entrada, outputs=salida)\n",
        "\n",
        "###"
      ],
      "execution_count": 0,
      "outputs": []
    },
    {
      "cell_type": "code",
      "metadata": {
        "id": "umTP8FRVpGIC",
        "colab_type": "code",
        "outputId": "0738f4e6-f116-4266-87d0-af12beb4447e",
        "colab": {
          "base_uri": "https://localhost:8080/",
          "height": 105
        }
      },
      "source": [
        "### A completar: definir optimizador y funcion de costo\n",
        "\n",
        "model.compile(optimizer='adam',\n",
        "              loss='categorical_crossentropy',\n",
        "              metrics=['accuracy'])\n",
        "\n",
        "###"
      ],
      "execution_count": 0,
      "outputs": [
        {
          "output_type": "stream",
          "text": [
            "WARNING:tensorflow:From /usr/local/lib/python3.6/dist-packages/keras/optimizers.py:793: The name tf.train.Optimizer is deprecated. Please use tf.compat.v1.train.Optimizer instead.\n",
            "\n",
            "WARNING:tensorflow:From /usr/local/lib/python3.6/dist-packages/keras/backend/tensorflow_backend.py:3576: The name tf.log is deprecated. Please use tf.math.log instead.\n",
            "\n"
          ],
          "name": "stdout"
        }
      ]
    },
    {
      "cell_type": "code",
      "metadata": {
        "id": "eUmdtpkApGIG",
        "colab_type": "code",
        "colab": {}
      },
      "source": [
        "## para guardar el modelo\n",
        "filepath = \"prueba1.h5\"\n",
        "model_checkpoint = ModelCheckpoint(filepath, monitor='loss',verbose=1, save_best_only=True)"
      ],
      "execution_count": 0,
      "outputs": []
    },
    {
      "cell_type": "code",
      "metadata": {
        "id": "isv-GaCLpGIK",
        "colab_type": "code",
        "outputId": "6ee1bce7-b2a7-4624-c704-1c0b9e07b861",
        "colab": {
          "base_uri": "https://localhost:8080/",
          "height": 1000
        }
      },
      "source": [
        "history = model.fit(X_train, y_train,\n",
        "              batch_size=32,\n",
        "              epochs=1, validation_data=(X_test, y_test), callbacks=[model_checkpoint])"
      ],
      "execution_count": 0,
      "outputs": [
        {
          "output_type": "stream",
          "text": [
            "WARNING:tensorflow:From /usr/local/lib/python3.6/dist-packages/tensorflow_core/python/ops/math_grad.py:1424: where (from tensorflow.python.ops.array_ops) is deprecated and will be removed in a future version.\n",
            "Instructions for updating:\n",
            "Use tf.where in 2.0, which has the same broadcast rule as np.where\n",
            "WARNING:tensorflow:From /usr/local/lib/python3.6/dist-packages/keras/backend/tensorflow_backend.py:1033: The name tf.assign_add is deprecated. Please use tf.compat.v1.assign_add instead.\n",
            "\n",
            "WARNING:tensorflow:From /usr/local/lib/python3.6/dist-packages/keras/backend/tensorflow_backend.py:1020: The name tf.assign is deprecated. Please use tf.compat.v1.assign instead.\n",
            "\n",
            "WARNING:tensorflow:From /usr/local/lib/python3.6/dist-packages/keras/backend/tensorflow_backend.py:3005: The name tf.Session is deprecated. Please use tf.compat.v1.Session instead.\n",
            "\n",
            "Train on 55000 samples, validate on 10000 samples\n",
            "Epoch 1/10\n",
            "WARNING:tensorflow:From /usr/local/lib/python3.6/dist-packages/keras/backend/tensorflow_backend.py:190: The name tf.get_default_session is deprecated. Please use tf.compat.v1.get_default_session instead.\n",
            "\n",
            "WARNING:tensorflow:From /usr/local/lib/python3.6/dist-packages/keras/backend/tensorflow_backend.py:197: The name tf.ConfigProto is deprecated. Please use tf.compat.v1.ConfigProto instead.\n",
            "\n",
            "WARNING:tensorflow:From /usr/local/lib/python3.6/dist-packages/keras/backend/tensorflow_backend.py:207: The name tf.global_variables is deprecated. Please use tf.compat.v1.global_variables instead.\n",
            "\n",
            "WARNING:tensorflow:From /usr/local/lib/python3.6/dist-packages/keras/backend/tensorflow_backend.py:216: The name tf.is_variable_initialized is deprecated. Please use tf.compat.v1.is_variable_initialized instead.\n",
            "\n",
            "WARNING:tensorflow:From /usr/local/lib/python3.6/dist-packages/keras/backend/tensorflow_backend.py:223: The name tf.variables_initializer is deprecated. Please use tf.compat.v1.variables_initializer instead.\n",
            "\n",
            "55000/55000 [==============================] - 180s 3ms/step - loss: 0.1681 - acc: 0.9596 - val_loss: 0.0400 - val_acc: 0.9889\n",
            "\n",
            "Epoch 00001: loss improved from inf to 0.16815, saving model to prueba1.h5\n",
            "Epoch 2/10\n",
            "55000/55000 [==============================] - 176s 3ms/step - loss: 0.0380 - acc: 0.9891 - val_loss: 0.0309 - val_acc: 0.9899\n",
            "\n",
            "Epoch 00002: loss improved from 0.16815 to 0.03803, saving model to prueba1.h5\n",
            "Epoch 3/10\n",
            "55000/55000 [==============================] - 175s 3ms/step - loss: 0.0256 - acc: 0.9922 - val_loss: 0.0227 - val_acc: 0.9924\n",
            "\n",
            "Epoch 00003: loss improved from 0.03803 to 0.02558, saving model to prueba1.h5\n",
            "Epoch 4/10\n",
            "55000/55000 [==============================] - 175s 3ms/step - loss: 0.0184 - acc: 0.9947 - val_loss: 0.0356 - val_acc: 0.9888\n",
            "\n",
            "Epoch 00004: loss improved from 0.02558 to 0.01843, saving model to prueba1.h5\n",
            "Epoch 5/10\n",
            "55000/55000 [==============================] - 175s 3ms/step - loss: 0.0128 - acc: 0.9963 - val_loss: 0.0254 - val_acc: 0.9923\n",
            "\n",
            "Epoch 00005: loss improved from 0.01843 to 0.01281, saving model to prueba1.h5\n",
            "Epoch 6/10\n",
            "55000/55000 [==============================] - 176s 3ms/step - loss: 0.0121 - acc: 0.9964 - val_loss: 0.0248 - val_acc: 0.9930\n",
            "\n",
            "Epoch 00006: loss improved from 0.01281 to 0.01210, saving model to prueba1.h5\n",
            "Epoch 7/10\n",
            "55000/55000 [==============================] - 176s 3ms/step - loss: 0.0099 - acc: 0.9968 - val_loss: 0.0238 - val_acc: 0.9936\n",
            "\n",
            "Epoch 00007: loss improved from 0.01210 to 0.00994, saving model to prueba1.h5\n",
            "Epoch 8/10\n",
            "55000/55000 [==============================] - 176s 3ms/step - loss: 0.0084 - acc: 0.9976 - val_loss: 0.0239 - val_acc: 0.9929\n",
            "\n",
            "Epoch 00008: loss improved from 0.00994 to 0.00841, saving model to prueba1.h5\n",
            "Epoch 9/10\n",
            "55000/55000 [==============================] - 176s 3ms/step - loss: 0.0064 - acc: 0.9982 - val_loss: 0.0294 - val_acc: 0.9917\n",
            "\n",
            "Epoch 00009: loss improved from 0.00841 to 0.00636, saving model to prueba1.h5\n",
            "Epoch 10/10\n",
            "55000/55000 [==============================] - 176s 3ms/step - loss: 0.0065 - acc: 0.9979 - val_loss: 0.0288 - val_acc: 0.9925\n",
            "\n",
            "Epoch 00010: loss did not improve from 0.00636\n"
          ],
          "name": "stdout"
        }
      ]
    },
    {
      "cell_type": "code",
      "metadata": {
        "id": "ZSYHiDbjpGIO",
        "colab_type": "code",
        "colab": {}
      },
      "source": [
        ""
      ],
      "execution_count": 0,
      "outputs": []
    },
    {
      "cell_type": "code",
      "metadata": {
        "id": "ke2uSBgCpGIR",
        "colab_type": "code",
        "outputId": "c69e5f75-6e8b-400d-c214-faf75f60d071",
        "colab": {
          "base_uri": "https://localhost:8080/",
          "height": 562
        }
      },
      "source": [
        "## visuzalimos curvas de entrenamiento\n",
        "\n",
        "plt.figure()\n",
        "plt.title(\"Accuracy vs epochs\")\n",
        "plt.plot( history.history['acc'] )\n",
        "plt.plot( history.history['val_acc'] )\n",
        "plt.legend(['Training Accuracy', 'Validation Accuracy'])\n",
        "\n",
        "\n",
        "plt.figure()\n",
        "plt.title(\"Loss vs epochs\")\n",
        "plt.plot( history.history['loss'] )\n",
        "plt.plot( history.history['val_loss'] )\n",
        "plt.legend(['Training Loss', 'Validation Loss'])"
      ],
      "execution_count": 0,
      "outputs": [
        {
          "output_type": "execute_result",
          "data": {
            "text/plain": [
              "<matplotlib.legend.Legend at 0x7ff1a07a7cc0>"
            ]
          },
          "metadata": {
            "tags": []
          },
          "execution_count": 14
        },
        {
          "output_type": "display_data",
          "data": {
            "image/png": "[encoded data removed]",
            "text/plain": [
              "<Figure size 432x288 with 1 Axes>"
            ]
          },
          "metadata": {
            "tags": []
          }
        },
        {
          "output_type": "display_data",
          "data": {
            "image/png": "[encoded data removed]",
            "text/plain": [
              "<Figure size 432x288 with 1 Axes>"
            ]
          },
          "metadata": {
            "tags": []
          }
        }
      ]
    },
    {
      "cell_type": "code",
      "metadata": {
        "id": "QOCdZxsopGIV",
        "colab_type": "code",
        "colab": {}
      },
      "source": [
        ""
      ],
      "execution_count": 0,
      "outputs": []
    },
    {
      "cell_type": "markdown",
      "metadata": {
        "id": "iQIQmtPbpGIY",
        "colab_type": "text"
      },
      "source": [
        "## Usemos este modelo para hacer predicciones"
      ]
    },
    {
      "cell_type": "code",
      "metadata": {
        "id": "r0f4-FB7pGIZ",
        "colab_type": "code",
        "colab": {}
      },
      "source": [
        "## A completar: utilizar imagenes de testeo\n",
        "\n",
        "predicciones = model.predict(X_test)\n",
        "\n",
        "##"
      ],
      "execution_count": 0,
      "outputs": []
    },
    {
      "cell_type": "code",
      "metadata": {
        "id": "_hBlpLFxpGIf",
        "colab_type": "code",
        "outputId": "ffbbd6d4-06bf-47b6-af5e-6c1cb8d620a3",
        "colab": {
          "base_uri": "https://localhost:8080/",
          "height": 1000
        }
      },
      "source": [
        "fig, ax = plt.subplots(3, 3, figsize=[15, 40])\n",
        "\n",
        "\n",
        "for j in range(3):\n",
        "    for i in range(3):\n",
        "        \n",
        "       random_image = np.random.randint(low=0, high=1000, size=1)\n",
        "\n",
        "       ax[i,j].imshow(mnist.test.images[random_image].reshape(28,28), 'gray')\n",
        "       ax[i,j].set_xticks([])\n",
        "       ax[i,j].set_yticks([])\n",
        "       ax[i,j].set_title('Predccion de mi red:  ' + str(np.argmax(predicciones[random_image])), color='r')\n",
        "\n",
        "plt.show()"
      ],
      "execution_count": 0,
      "outputs": [
        {
          "output_type": "display_data",
          "data": {
            "image/png": "[encoded data removed]",
            "text/plain": [
              "<Figure size 1080x2880 with 9 Axes>"
            ]
          },
          "metadata": {
            "tags": []
          }
        }
      ]
    },
    {
      "cell_type": "code",
      "metadata": {
        "id": "HgfuQZZMpGIj",
        "colab_type": "code",
        "colab": {}
      },
      "source": [
        ""
      ],
      "execution_count": 0,
      "outputs": []
    },
    {
      "cell_type": "code",
      "metadata": {
        "id": "PItQDbcXpGIm",
        "colab_type": "code",
        "colab": {}
      },
      "source": [
        ""
      ],
      "execution_count": 0,
      "outputs": []
    }
  ]
}