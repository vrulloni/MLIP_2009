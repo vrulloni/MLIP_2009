{
 "cells": [
  {
   "cell_type": "markdown",
   "metadata": {},
   "source": [
    "### Curso-Taller 2019: Aprendizaje Automático e Imágenes en Python\n",
    "\n",
    "clase 24/10/2019\n",
    "\n",
    "#### Docentes:  Dra. Laura M. Vargas - Dra. Valeria S. Rulloni\n",
    "* Ayudantes: Sebastián Palacio- Axel Aguerreberry \n",
    "* Colaboradoras: Dra. Claudia Egea - Dra. Ana Carolina Maldonado\n",
    "\n",
    "### Trabajo Práctico 1:\n"
   ]
  },
  {
   "cell_type": "markdown",
   "metadata": {},
   "source": [
    "* Ejercicio 1 : Realice y grafique una imagen con una cruz negra y fondo blanco.\n",
    "* Ejercicio 2 : Realice y grafique una imagen con una cruz blanca y fondo negro (negativo de la primera)."
   ]
  },
  {
   "cell_type": "code",
   "execution_count": null,
   "metadata": {},
   "outputs": [],
   "source": []
  },
  {
   "cell_type": "markdown",
   "metadata": {},
   "source": [
    "* Ejercicio 3: Realice y grafique, una imagen con cuatro bandas horizontales de intensidad homogénea decreciente de  1 a 0 de arriba abajo."
   ]
  },
  {
   "cell_type": "code",
   "execution_count": null,
   "metadata": {},
   "outputs": [],
   "source": []
  },
  {
   "cell_type": "markdown",
   "metadata": {},
   "source": [
    "* Ejercicio 4: Construir y graficar una imagen 128x128  dividida en cuatro cuadrados de colores: rojo, azul, amarillo y uno a elección.\n",
    "* Ejercicio 5: Abrir una imagen guardada en un archivo, convertirla en Imagen monocroma, y graficar ambas imágenes a la par, colocarle título a ambas."
   ]
  },
  {
   "cell_type": "code",
   "execution_count": null,
   "metadata": {},
   "outputs": [],
   "source": []
  },
  {
   "cell_type": "markdown",
   "metadata": {},
   "source": [
    "* Ejercicio 6: Construir y graficar una imagen a color que mezcle una imagen con paisaje a la que se le superponga una persona de otra imagen.\n",
    "\n",
    "### Uso de ROI en open cv"
   ]
  },
  {
   "cell_type": "code",
   "execution_count": 1,
   "metadata": {},
   "outputs": [
    {
     "name": "stdout",
     "output_type": "stream",
     "text": [
      "(3328, 1872, 3)\n",
      "es muy grande la imagen para visualizarla completa \n"
     ]
    }
   ],
   "source": [
    "import cv2\n",
    "img = cv2.imread('gato.jpg')# abrimos la imagen\n",
    "print(img.shape)#dimensiones de la image\n",
    "#visualización:\n",
    "cv2.imshow('image',img)\n",
    "cv2.waitKey() \n",
    "cv2.destroyAllWindows()\n",
    "print('es muy grande la imagen para visualizarla completa ')"
   ]
  },
  {
   "cell_type": "code",
   "execution_count": 2,
   "metadata": {},
   "outputs": [
    {
     "name": "stdout",
     "output_type": "stream",
     "text": [
      "se ve la imagen completa pero no quedan proporcionales los ejes, le cambiaremos el tamaño a la ventana de visualización pero de manera proporcional, 800 pixeles de alto es un buen número\n"
     ]
    }
   ],
   "source": [
    "#intentamos cambiar el tamaño  de la ventana donde se muestra\n",
    "cv2.namedWindow('image2',cv2.WINDOW_NORMAL)\n",
    "cv2.imshow('image2',img)\n",
    "cv2.waitKey() \n",
    "cv2.destroyAllWindows()\n",
    "print('se ve la imagen completa pero no quedan proporcionales los ejes, le cambiaremos el tamaño a la ventana de visualización pero de manera proporcional, 800 pixeles de alto es un buen número')"
   ]
  },
  {
   "cell_type": "code",
   "execution_count": 22,
   "metadata": {},
   "outputs": [
    {
     "name": "stdout",
     "output_type": "stream",
     "text": [
      "nuevas dimensiones para visualizar:  650 x 365 ;  filas y columnas originales reducidas al 3  %\n"
     ]
    }
   ],
   "source": [
    "tam1=650\n",
    "tam2=int(img.shape[1]/img.shape[0]*650)\n",
    "print('nuevas dimensiones para visualizar: ',tam1,'x',tam2, ';  filas y columnas originales reducidas al',int((650/img.shape[0])**2*100),' %' )\n",
    "cv2.namedWindow('image',cv2.WINDOW_NORMAL)\n",
    "cv2.resizeWindow('image', tam2,tam1) #tam2=# x's = #columnas y #tam1=# y's = #filas        \n",
    "cv2.imshow('image',img)\n",
    "cv2.waitKey() \n",
    "cv2.destroyAllWindows()"
   ]
  },
  {
   "cell_type": "markdown",
   "metadata": {},
   "source": [
    "#### Selección de ROI"
   ]
  },
  {
   "cell_type": "code",
   "execution_count": 23,
   "metadata": {},
   "outputs": [],
   "source": [
    "#ajustes del tamaño de la ventana:\n",
    "cv2.namedWindow('delimite la ROI+ent+tecla',cv2.WINDOW_NORMAL)\n",
    "cv2.resizeWindow('delimite la ROI+ent+tecla', tam2,tam1)\n",
    "\n",
    "#Parámetros para el demarcado de la ROI\n",
    "showCrosshair = False\n",
    "fromCenter = True#False\n",
    "#demarcado manual de la ROI\n",
    "roi = cv2.selectROI('delimite la ROI+ent+tecla', img, fromCenter, showCrosshair)\n",
    "cv2.waitKey() \n",
    "cv2.destroyAllWindows()"
   ]
  },
  {
   "cell_type": "code",
   "execution_count": 24,
   "metadata": {},
   "outputs": [
    {
     "name": "stdout",
     "output_type": "stream",
     "text": [
      "ROI: (610, 1792, 308, 363)\n",
      "(columna, fila, anchocol, anchofila)\n"
     ]
    }
   ],
   "source": [
    "print('ROI:',roi)\n",
    "print('(columna, fila, anchocol, anchofila)')\n"
   ]
  },
  {
   "cell_type": "code",
   "execution_count": 25,
   "metadata": {},
   "outputs": [
    {
     "name": "stdout",
     "output_type": "stream",
     "text": [
      "filas: 1792  a  2155  y columnas: 610  a  918\n",
      "(363, 308, 3)\n"
     ]
    }
   ],
   "source": [
    "#Recorte de ROI\n",
    "\n",
    "f1=roi[1]\n",
    "fu=roi[1]+roi[3]\n",
    "c1=roi[0]\n",
    "cu=roi[0]+roi[2]\n",
    "print('filas:',f1,' a ',fu,' y columnas:', c1,' a ',cu)\n",
    "\n",
    "recorte=img[f1:fu,c1:cu,:]\n",
    "print(recorte.shape)\n",
    "cv2.imshow('imagen recorte',recorte)\n",
    "cv2.waitKey() \n",
    "cv2.destroyAllWindows()\n"
   ]
  },
  {
   "cell_type": "code",
   "execution_count": 26,
   "metadata": {},
   "outputs": [
    {
     "name": "stdout",
     "output_type": "stream",
     "text": [
      "(1872, 3328, 3)\n",
      "es muy grande la imagen para visualizarla completa \n"
     ]
    }
   ],
   "source": [
    "import cv2\n",
    "img2 = cv2.imread('paisaje.jpg')# abrimos la imagen\n",
    "print(img2.shape)#dimensiones de la image\n",
    "#visualización:\n",
    "cv2.imshow('image',img2)\n",
    "cv2.waitKey() \n",
    "cv2.destroyAllWindows()\n",
    "print('es muy grande la imagen para visualizarla completa')"
   ]
  },
  {
   "cell_type": "code",
   "execution_count": 35,
   "metadata": {},
   "outputs": [
    {
     "name": "stdout",
     "output_type": "stream",
     "text": [
      "nuevas dimensiones para visualizar:  650 1155 ;  filas y columnas originales reducidas al 12  %\n",
      "dimensiones imagen original (3328, 1872, 3)\n",
      "dimensiones del recorte (363, 308, 3)\n",
      "lugares (2065, 864, 300, 221)\n"
     ]
    }
   ],
   "source": [
    "#visualización de la imagen 'paisaje.jpg' escalada y elegimos el lugar donde irá nuestro recorte\n",
    "tam1=650\n",
    "tam2=int(img2.shape[1]/img2.shape[0]*650)\n",
    "print('nuevas dimensiones para visualizar: ',tam1,tam2, ';  filas y columnas originales reducidas al',int((650/img2.shape[0])**2*100),' %' )\n",
    "print('dimensiones imagen original',img.shape)\n",
    "print('dimensiones del recorte',recorte.shape)\n",
    "cv2.namedWindow('image',cv2.WINDOW_NORMAL)\n",
    "cv2.resizeWindow('image', tam2,tam1) #tam2=# x's = #columnas y #tam1=# y's = #filas  \n",
    "#cv2.imshow('image',img2)\n",
    "#Parámetros para el demarcado de la ROI\n",
    "showCrosshair = False\n",
    "fromCenter = True#False\n",
    "#demarcado manual de la ROI\n",
    "lugar = cv2.selectROI('image', img2, fromCenter, showCrosshair)\n",
    "cv2.waitKey() \n",
    "cv2.destroyAllWindows()\n",
    "print('lugares:',lugar)"
   ]
  },
  {
   "cell_type": "markdown",
   "metadata": {},
   "source": [
    "#### Superposición, considerando la ubicación pero no el tamaño adaptado."
   ]
  },
  {
   "cell_type": "code",
   "execution_count": null,
   "metadata": {},
   "outputs": [],
   "source": [
    "F=lugar[1]#fila inicio imagen paisaje\n",
    "C=lugar[0] #columna inicio imagen paisaje\n",
    "imagen_nueva=img2.copy() #paisaje nuevo\n",
    "imagen_nueva[F:(F+roi[3]), C:(C+roi[2]),:]=recorte #sobre-escribimos el recorte sobre el paisaje \n",
    "\n",
    "#graficamos con la misma escala que usamos para el paisaje original\n",
    "cv2.namedWindow('image',cv2.WINDOW_NORMAL)\n",
    "cv2.resizeWindow('image', tam2,tam1) #tam2=# x's = #columnas y #tam1=# y's = #filas        \n",
    "cv2.imshow('image',imagen_nueva)\n",
    "cv2.waitKey() \n",
    "cv2.destroyAllWindows()"
   ]
  },
  {
   "cell_type": "markdown",
   "metadata": {},
   "source": [
    "#### Superposición adaptando tamaño al lugar elegido"
   ]
  },
  {
   "cell_type": "code",
   "execution_count": 38,
   "metadata": {},
   "outputs": [],
   "source": [
    "F=lugar[1]#fila inicio imagen paisaje\n",
    "FF=lugar[1]+lugar[3] #fila final\n",
    "C=lugar[0] #columna inicio imagen paisaje\n",
    "CC=lugar[0]+lugar[2]\n",
    "imagen_nueva=img2.copy() #paisaje nuevo\n",
    "imagen_nueva[F:FF, C:CC,:]=cv2.resize(recorte,lugar[2:4])\n",
    "#imagen_nueva[F:(F+roi[3]), C:(C+roi[2]),:]=recorte #sobre-escribimos el recorte sobre el paisaje \n",
    "\n",
    "#graficamos con la misma escala que usamos para el paisaje original\n",
    "cv2.namedWindow('image',cv2.WINDOW_NORMAL)\n",
    "cv2.resizeWindow('image', tam2,tam1) #tam2=# x's = #columnas y #tam1=# y's = #filas        \n",
    "cv2.imshow('image',imagen_nueva)\n",
    "cv2.waitKey() \n",
    "cv2.destroyAllWindows()"
   ]
  },
  {
   "cell_type": "code",
   "execution_count": null,
   "metadata": {},
   "outputs": [],
   "source": []
  },
  {
   "cell_type": "markdown",
   "metadata": {},
   "source": [
    "* Ejercicio 7:  Cargar una imagen monocroma y realizar por separado las siguientes modificaciones :  Aclararla, Oscurecerla y Obtener el negativo.\n",
    "* Ejercicio 8:  Obtener el valor de gris más repetido en cada imagen.\n",
    "* Ejercicio 9: Aplicar una máscara  de suavizado de 5x5 a la componente roja de una imagen a elección, un filtro de bordes a la componente verde componer una imagen a color donde se reemplace las componentes rojas y verdes modificadas.\n",
    "* Ejercicio 10 : Binarice una imagen a elección buscando demarcar uno o varios objetos en esta (puede ser eligiendo un umbral a partir del histograma de una imagen monocroma). Al resultado aplicarle 2 o 3 filtros morfológicos en el orden que crea adecuado para mejorar la segmentación con elemento  estructurante creado por usted, según crea adecuado para el problema (justifique).\n",
    "* Ejercicio 11: Mostrar en una misma ventana, la imagen original, la binaria y la resultante de aplicarle los filtros. Comente si tuvo buenos resultados.\n",
    "* Ejercicio 12: Encuentre bordes o el contorno del objeto u objetos en la imagen binaria utilizando operaciones morfológicas."
   ]
  },
  {
   "cell_type": "code",
   "execution_count": null,
   "metadata": {},
   "outputs": [],
   "source": []
  },
  {
   "cell_type": "markdown",
   "metadata": {},
   "source": [
    "* Ejercicio 13:  Cargar una imagen a color (a elección), que a su criterio tenga entre 2 y 7 clases en ella.  \n",
    "- a) Explique coloquialmente la cantidad y el criterio visual que utilizó para identificarlas.\n",
    "- b) Agregue una o dos características (capas, bandas, etc, pueden ser bordes de alguna componente) más a la imagen que considere puedan ser relevantes para la clasificación. \n",
    "- c) Construya una muestra de entrenamiento de la imagen utilizando todas las características.\n",
    "- d) Realice un análisis exploratorio con gráficos de la muestra de entrenamiento discriminando con diferente color cada clase.\n",
    "- e) Clasifíquela utilizando la muestra de entrenamiento y  K-NN  (k vecinos más cercanos). O con el método que guste.\n",
    "- f) Generar una máscara o elemento estructural, y realice con éste una mejora de la clasificación obtenida en el ejercicio anterior utilizando un filtro de moda. Mirando el resultado final decida si considera que la clasificación fue buena y si la cantidad de clases elegida fue la adecuada.\n"
   ]
  },
  {
   "cell_type": "code",
   "execution_count": null,
   "metadata": {},
   "outputs": [],
   "source": []
  }
 ],
 "metadata": {
  "kernelspec": {
   "display_name": "Python 3",
   "language": "python",
   "name": "python3"
  },
  "language_info": {
   "codemirror_mode": {
    "name": "ipython",
    "version": 3
   },
   "file_extension": ".py",
   "mimetype": "text/x-python",
   "name": "python",
   "nbconvert_exporter": "python",
   "pygments_lexer": "ipython3",
   "version": "3.6.5"
  }
 },
 "nbformat": 4,
 "nbformat_minor": 2
}
