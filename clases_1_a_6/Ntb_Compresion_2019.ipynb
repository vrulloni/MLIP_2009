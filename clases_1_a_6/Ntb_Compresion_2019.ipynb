{
 "cells": [
  {
   "cell_type": "code",
   "execution_count": 1,
   "metadata": {},
   "outputs": [
    {
     "data": {
      "text/plain": [
       "True"
      ]
     },
     "execution_count": 1,
     "metadata": {},
     "output_type": "execute_result"
    }
   ],
   "source": [
    "\n",
    "import cv2\n",
    "ima = cv2.imread('lenna.jpg',0)\n",
    "\n",
    "cv2.imwrite('lenna1.jpg',ima)#por defecto 95\n",
    "cv2.imwrite('lenna2.jpg',ima,[cv2.IMWRITE_JPEG_QUALITY, 95])\n",
    "cv2.imwrite('lenna3.jpg',ima,[cv2.IMWRITE_JPEG_QUALITY, 10])\n",
    "ima1=cv2.imread('pout.png',0)\n",
    "cv2.imwrite('pout.jpg',ima1,[cv2.IMWRITE_JPEG_QUALITY, 60])\n",
    "cv2.imwrite('pout.jp2',ima1)\n",
    "\n"
   ]
  },
  {
   "cell_type": "code",
   "execution_count": 6,
   "metadata": {},
   "outputs": [],
   "source": [
    "from PIL import Image\n",
    "img=Image.open('lenna.jpg')\n",
    "img.save('lennapil.jpg',quality=95)"
   ]
  },
  {
   "cell_type": "markdown",
   "metadata": {},
   "source": [
    "#Para grabar en el formato jpeg2000 debe tener el codec\n",
    "#Para JPEG 2000 se pide la compression-ratio (relación de compresión)\n"
   ]
  },
  {
   "cell_type": "code",
   "execution_count": 4,
   "metadata": {},
   "outputs": [
    {
     "name": "stdout",
     "output_type": "stream",
     "text": [
      "Ingrese nombre imagenpout.png\n",
      "Ingrese nombre archivo salida (jpg): testpout.jpg\n",
      "Ingrese calidad (0-100): 30\n"
     ]
    },
    {
     "data": {
      "text/plain": [
       "True"
      ]
     },
     "execution_count": 4,
     "metadata": {},
     "output_type": "execute_result"
    }
   ],
   "source": [
    "#Generalización para pruebas\n",
    "\n",
    "import cv2\n",
    "nombre=input('Ingrese nombre imagen')\n",
    "ima=cv2.imread(nombre,0)\n",
    "test=input('Ingrese nombre archivo salida (jpg): ')\n",
    "calidad=int(input('Ingrese calidad (0-100): ')) #Convertir a entero!\n",
    "cv2.imwrite(test,ima,[cv2.IMWRITE_JPEG_QUALITY, calidad])#por defecto 95"
   ]
  },
  {
   "cell_type": "code",
   "execution_count": null,
   "metadata": {},
   "outputs": [],
   "source": []
  }
 ],
 "metadata": {
  "kernelspec": {
   "display_name": "Python 3",
   "language": "python",
   "name": "python3"
  },
  "language_info": {
   "codemirror_mode": {
    "name": "ipython",
    "version": 3
   },
   "file_extension": ".py",
   "mimetype": "text/x-python",
   "name": "python",
   "nbconvert_exporter": "python",
   "pygments_lexer": "ipython3",
   "version": "3.6.5"
  }
 },
 "nbformat": 4,
 "nbformat_minor": 2
}
