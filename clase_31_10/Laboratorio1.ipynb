{
 "cells": [
  {
   "cell_type": "markdown",
   "metadata": {},
   "source": [
    "### Curso-Taller 2019: Aprendizaje Automático e Imágenes en Python \n",
    "* Docentes:  Dra. Valeria S. Rulloni - Dra. Laura M. Vargas\n",
    "* Ayudantes: Axel Aguerreberry - Sebastián Palacio\n",
    "* Colaboradoras: Dra. Ana Carolina Maldonado - Dra. Claudia Egea\n",
    "\n",
    "### Temario a desarrollar:\n",
    "*\tUso y herramientas básicas de Python\n",
    "*\tImágenes digitales: tipos (binarias, monocromáticas y a color)\n",
    "*\tHistograma. Mejora de la imagen: contraste, filtros: suavizado y detección de bordes.\n",
    "*\tUmbralado y Binarización. Operaciones Morfológicas: erosión, dilatación, cierre y apertura.\n",
    "*\tClasificación de imágenes.\n",
    "*\tAprendizaje automático\n",
    "*\tAprendizaje profundo: Redes neuronales\n",
    "*\tAplicaciones: Grafos para segmentación de imágenes, entre otras.\n",
    "\n"
   ]
  },
  {
   "cell_type": "markdown",
   "metadata": {},
   "source": [
    "# Laboratorio Parte 1: Keras, MNIST data y redes totalmente conectadas (FC)"
   ]
  },
  {
   "cell_type": "code",
   "execution_count": null,
   "metadata": {},
   "outputs": [],
   "source": [
    "# importo librerias necesarias     \n",
    "import matplotlib\n",
    "import matplotlib.pyplot as plt\n",
    "import tensorflow as tf\n",
    "import numpy as np\n",
    "from keras.layers import Input, Dense\n",
    "from keras.models import Model\n",
    "from keras.callbacks import EarlyStopping, ModelCheckpoint, Callback"
   ]
  },
  {
   "cell_type": "code",
   "execution_count": null,
   "metadata": {},
   "outputs": [],
   "source": [
    "from tensorflow.examples.tutorials.mnist import input_data\n",
    "\n",
    "# importo y guardo MNIST data\n",
    "mnist = input_data.read_data_sets(\"./mnist/data/\", one_hot=True)"
   ]
  },
  {
   "cell_type": "markdown",
   "metadata": {},
   "source": [
    "### Documentación de Keras: https://keras.io/"
   ]
  },
  {
   "cell_type": "markdown",
   "metadata": {},
   "source": [
    "## Exploración del dataset"
   ]
  },
  {
   "cell_type": "code",
   "execution_count": null,
   "metadata": {},
   "outputs": [],
   "source": [
    "# dimensiones de la data\n",
    "print(f\"Imagenes de Entrenamiento: {mnist.train.images.shape}\")\n",
    "print(f\"Labels de Entrenamiento: {mnist.train.labels.shape}\")\n",
    "\n",
    "print(f\"Imagenes de Testeo: {mnist.test.images.shape}\")\n",
    "print(f\"Labels de Testeo: {mnist.test.labels.shape}\")"
   ]
  },
  {
   "cell_type": "code",
   "execution_count": null,
   "metadata": {},
   "outputs": [],
   "source": [
    "# visualizamos algunas imagenes\n",
    "fig, ax = plt.subplots(3, 3, figsize=[15, 40])\n",
    "\n",
    "random_image = np.random.randint(low=0, high=55000, size=1)\n",
    "\n",
    "for j in range(3):\n",
    "    for i in range(3):\n",
    "        \n",
    "       random_image = np.random.randint(low=0, high=55000, size=1)\n",
    "\n",
    "       ax[i,j].imshow(mnist.train.images[random_image].reshape(28,28), 'gray')\n",
    "       ax[i,j].set_xticks([])\n",
    "       ax[i,j].set_yticks([])\n",
    "       ax[i,j].set_title('Label:  ' + str(mnist.train.labels[random_image]), color='r')\n",
    "\n",
    "\n",
    "#fig.subplots_adjust(wspace=0.1, hspace=0)\n",
    "plt.show()"
   ]
  },
  {
   "cell_type": "code",
   "execution_count": null,
   "metadata": {},
   "outputs": [],
   "source": []
  },
  {
   "cell_type": "markdown",
   "metadata": {},
   "source": [
    "# Definición y entrenamiento del Modelo"
   ]
  },
  {
   "cell_type": "code",
   "execution_count": null,
   "metadata": {},
   "outputs": [],
   "source": [
    "### A completar: definir capa de entrada, capas ocultas, y capa de salida\n",
    "### Utilizar funciones Input(), Dense()\n",
    "\n",
    "inputs = \n",
    "layer1 = \n",
    "layer2 = \n",
    "predictiones = \n",
    "\n",
    "###"
   ]
  },
  {
   "cell_type": "code",
   "execution_count": null,
   "metadata": {},
   "outputs": [],
   "source": [
    "### A completar: definir entrada y salida del modelo\n",
    "\n",
    "model = Model(inputs=, outputs=)\n",
    "\n",
    "###"
   ]
  },
  {
   "cell_type": "code",
   "execution_count": null,
   "metadata": {},
   "outputs": [],
   "source": [
    "### A completar: definir optimizador y funcion de costo\n",
    "\n",
    "model.compile(optimizer=,\n",
    "              loss=,\n",
    "              metrics=['accuracy'])\n",
    "\n",
    "###"
   ]
  },
  {
   "cell_type": "code",
   "execution_count": null,
   "metadata": {},
   "outputs": [],
   "source": [
    "## para guardar el modelo\n",
    "filepath = \"prueba1.h5\"\n",
    "model_checkpoint = ModelCheckpoint(filepath, monitor='loss',verbose=1, save_best_only=True)"
   ]
  },
  {
   "cell_type": "code",
   "execution_count": null,
   "metadata": {},
   "outputs": [],
   "source": [
    "%%time\n",
    "history = model.fit(mnist.train.images, mnist.train.labels,\n",
    "              batch_size=32,\n",
    "              epochs=2, validation_data=(mnist.test.images, mnist.test.labels), callbacks=[model_checkpoint])"
   ]
  },
  {
   "cell_type": "code",
   "execution_count": null,
   "metadata": {},
   "outputs": [],
   "source": []
  },
  {
   "cell_type": "code",
   "execution_count": null,
   "metadata": {},
   "outputs": [],
   "source": [
    "## visuzalimos curvas de entrenamiento\n",
    "\n",
    "plt.figure()\n",
    "plt.title(\"Accuracy vs epochs\")\n",
    "plt.plot( history.history['acc'] )\n",
    "plt.plot( history.history['val_acc'] )\n",
    "plt.legend(['Accuracy Loss', 'Accuracy Loss'])\n",
    "\n",
    "\n",
    "plt.figure()\n",
    "plt.title(\"Loss vs epochs\")\n",
    "plt.plot( history.history['loss'] )\n",
    "plt.plot( history.history['val_loss'] )\n",
    "plt.legend(['Training Loss', 'Validation Loss'])"
   ]
  },
  {
   "cell_type": "code",
   "execution_count": null,
   "metadata": {},
   "outputs": [],
   "source": []
  },
  {
   "cell_type": "markdown",
   "metadata": {},
   "source": [
    "## Usemos este modelo para hacer predicciones"
   ]
  },
  {
   "cell_type": "code",
   "execution_count": null,
   "metadata": {},
   "outputs": [],
   "source": [
    "## A completar: utilizar imagenes de testeo\n",
    "\n",
    "predicciones = model.predict()\n",
    "\n",
    "##"
   ]
  },
  {
   "cell_type": "code",
   "execution_count": null,
   "metadata": {},
   "outputs": [],
   "source": [
    "fig, ax = plt.subplots(3, 3, figsize=[15, 40])\n",
    "\n",
    "\n",
    "for j in range(3):\n",
    "    for i in range(3):\n",
    "        \n",
    "       random_image = np.random.randint(low=0, high=1000, size=1)\n",
    "\n",
    "       ax[i,j].imshow(mnist.test.images[random_image].reshape(28,28), 'gray')\n",
    "       ax[i,j].set_xticks([])\n",
    "       ax[i,j].set_yticks([])\n",
    "       ax[i,j].set_title('Predccion de mi red:  ' + str(np.argmax(predictions[random_image])), color='r')\n",
    "\n",
    "plt.show()"
   ]
  },
  {
   "cell_type": "code",
   "execution_count": null,
   "metadata": {},
   "outputs": [],
   "source": []
  },
  {
   "cell_type": "code",
   "execution_count": null,
   "metadata": {},
   "outputs": [],
   "source": []
  }
 ],
 "metadata": {
  "anaconda-cloud": {},
  "kernelspec": {
   "display_name": "Python 3",
   "language": "python",
   "name": "python3"
  },
  "language_info": {
   "codemirror_mode": {
    "name": "ipython",
    "version": 3
   },
   "file_extension": ".py",
   "mimetype": "text/x-python",
   "name": "python",
   "nbconvert_exporter": "python",
   "pygments_lexer": "ipython3",
   "version": "3.7.3"
  }
 },
 "nbformat": 4,
 "nbformat_minor": 1
}
